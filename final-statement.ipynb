{
 "cells": [
  {
   "cell_type": "markdown",
   "metadata": {},
   "source": [
    "# Финальное задание"
   ]
  },
  {
   "cell_type": "markdown",
   "metadata": {},
   "source": [
    "## Предметная область: Игра Dota 2\n",
    "\n",
    "[Dota 2](https://ru.wikipedia.org/wiki/Dota_2) — многопользовательская компьютерная игра жанра [MOBA](https://ru.wikipedia.org/wiki/MOBA). Игроки играют между собой матчи. В каждом матче участвует две команды, 5 человек в каждой. Одна команда играет за светлую сторону (The Radiant), другая — за тёмную (The Dire). Цель каждой команды — уничтожить главное здание базы противника (трон).\n",
    "\n",
    "Существуют [разные режимы игры](http://dota2.gamepedia.com/Game_modes/ru), мы будем рассматривать режим [Captain's Mode](http://dota2.gamepedia.com/Game_modes/ru#Captain.27s_Mode), в формате которого происходит большая часть киберспортивных мероприятий по Dota 2.\n",
    "\n",
    "### Как проходит матч\n",
    "\n",
    "#### 1. Игроки выбирают героев\n",
    "\n",
    "Всего в игре чуть более 100 различных героев (персонажей). В начале игры, команды в определенном порядке выбирают героев себе и запрещают выбирать определенных героев противнику (баны). Каждый игрок будет управлять одним героем, в рамках одного матча не может быть несколько одинаковых героев.  Герои различаются между собой своими характеристиками и способностями. От комбинации выбранных героев во многом зависит успех команды.\n",
    "\n",
    "![](http://imgur.com/XFr4HYE.jpg)\n",
    "\n",
    "#### 2. Основная часть\n",
    "\n",
    "Игроки могут получать золото и опыт за убийство чужих героев или прочих юнитов. Накопленный опыт влияет на уровень героя, который в свою очередь позволяет улучшать способности. За накопленное золото игроки покупают предметы, которые улучшают характеристики героев или дают им новые способности.\n",
    "\n",
    "После смерти герой отправляется в \"таверну\" и возрождается только по прошествии некоторого времени, таким образом команда на некоторое время теряет игрока, однако игрок может досрочно выкупить героя из таверны за определенную сумму золота.\n",
    "\n",
    "В течение игры команды развивают своих героев, обороняют свою часть поля и нападают на вражескую.\n",
    "\n",
    "![](http://imgur.com/5b0SlQb.jpg)\n",
    "\n",
    "#### 3. Конец игры\n",
    "\n",
    "Игра заканчивается, когда одна из команд разрушет определенное число \"башен\" противника и уничтожает трон.\n",
    "\n",
    "![](http://imgur.com/Du79Kzf.jpg)"
   ]
  },
  {
   "cell_type": "markdown",
   "metadata": {},
   "source": [
    "## Задача: предсказание победы по данным о первых 5 минутах игры\n",
    "\n",
    "По первым 5 минутам игры предсказать, какая из команд победит: Radiant или Dire?"
   ]
  },
  {
   "cell_type": "markdown",
   "metadata": {},
   "source": [
    "## Набор данных\n",
    "\n",
    "Набор данных с матчами записан в файле `matches.jsonlines.bz2`.\n",
    "В каталоге `dictionaries` приведены расшифровки идентификаторов, которые присутствуют в записях матчей."
   ]
  },
  {
   "cell_type": "markdown",
   "metadata": {},
   "source": [
    "#### Чтение информации о матчах\n",
    "\n",
    "Информация о матчах записана в сжатом текстовом файле `matches.jsonlines.bz2`, каждая строчка которого содержит объект в формате [JSON](https://ru.wikipedia.org/wiki/JSON). Запись в формате JSON преобразуется в python-объект при помощи стандартного модуля `json`. Пример чтения матчей:"
   ]
  },
  {
   "cell_type": "code",
   "execution_count": 3,
   "metadata": {},
   "outputs": [
    {
     "name": "stdout",
     "output_type": "stream",
     "text": [
      "{'picks_bans': [{'is_pick': False, 'hero_id': 95, 'order': 0, 'team': 1}, {'is_pick': False, 'hero_id': 39, 'order': 1, 'team': 0}, {'is_pick': False, 'hero_id': 99, 'order': 2, 'team': 1}, {'is_pick': False, 'hero_id': 41, 'order': 3, 'team': 0}, {'is_pick': True, 'hero_id': 42, 'order': 4, 'team': 1}, {'is_pick': True, 'hero_id': 68, 'order': 5, 'team': 0}, {'is_pick': True, 'hero_id': 22, 'order': 6, 'team': 0}, {'is_pick': True, 'hero_id': 64, 'order': 7, 'team': 1}, {'is_pick': False, 'hero_id': 73, 'order': 8, 'team': 1}, {'is_pick': False, 'hero_id': 11, 'order': 9, 'team': 0}, {'is_pick': False, 'hero_id': 97, 'order': 10, 'team': 1}, {'is_pick': False, 'hero_id': 93, 'order': 11, 'team': 0}, {'is_pick': True, 'hero_id': 98, 'order': 12, 'team': 0}, {'is_pick': True, 'hero_id': 47, 'order': 13, 'team': 1}, {'is_pick': True, 'hero_id': 88, 'order': 14, 'team': 0}, {'is_pick': True, 'hero_id': 110, 'order': 15, 'team': 1}, {'is_pick': False, 'hero_id': 48, 'order': 16, 'team': 0}, {'is_pick': False, 'hero_id': 35, 'order': 17, 'team': 1}, {'is_pick': True, 'hero_id': 67, 'order': 18, 'team': 0}, {'is_pick': True, 'hero_id': 8, 'order': 19, 'team': 1}], 'finish': {'tower_status_dire': 1972, 'barracks_status_dire': 63, 'barracks_status_radiant': 0, 'tower_status_radiant': 0, 'duration': 2980, 'radiant_win': False}, 'match_id': 247, 'start_time': 1430514316, 'times': [0, 60, 120, 180, 240, 300, 360, 420, 480, 540, 600, 660, 720, 780, 840, 900, 960, 1020, 1080, 1140, 1200, 1260, 1320, 1380, 1440, 1500, 1560, 1620, 1680, 1740, 1800, 1860, 1920, 1980, 2040, 2100, 2160, 2220, 2280, 2340, 2400, 2460, 2520, 2580, 2640, 2700, 2760, 2820, 2880, 2940, 3000], 'players': [{'buyback_log': [{'key': None, 'time': 2507}], 'lh_t': [0, 2, 7, 14, 20, 28, 33, 40, 45, 50, 57, 64, 68, 74, 76, 80, 89, 92, 92, 97, 97, 112, 115, 123, 124, 132, 146, 152, 166, 180, 180, 183, 185, 189, 201, 220, 225, 231, 253, 261, 275, 283, 293, 296, 296, 306, 319, 337, 347, 364, 365], 'obs_log': [], 'purchase_log': [{'item_id': 44, 'time': -73}, {'item_id': 16, 'time': -72}, {'item_id': 182, 'time': -71}, {'item_id': 39, 'time': -68}, {'item_id': 16, 'time': -66}, {'item_id': 14, 'time': 43}, {'item_id': 71, 'time': 43}, {'item_id': 14, 'time': 43}, {'item_id': 29, 'time': 175}, {'item_id': 54, 'time': 783}, {'item_id': 46, 'time': 847}, {'item_id': 137, 'time': 984}, {'item_id': 46, 'time': 1049}, {'item_id': 46, 'time': 1128}, {'item_id': 22, 'time': 1187}, {'item_id': 22, 'time': 1208}, {'item_id': 46, 'time': 1296}, {'item_id': 46, 'time': 1320}, {'item_id': 46, 'time': 1538}, {'item_id': 19, 'time': 1552}, {'item_id': 174, 'time': 1606}, {'item_id': 22, 'time': 1870}, {'item_id': 18, 'time': 1870}, {'item_id': 170, 'time': 1870}, {'item_id': 46, 'time': 1948}, {'item_id': 46, 'time': 1961}, {'item_id': 24, 'time': 2239}, {'item_id': 147, 'time': 2307}, {'item_id': 196, 'time': 2378}, {'item_id': 46, 'time': 2414}, {'item_id': 46, 'time': 2435}, {'item_id': 46, 'time': 2551}, {'item_id': 53, 'time': 2846}, {'item_id': 114, 'time': 2846}, {'item_id': 61, 'time': 2846}, {'item_id': 25, 'time': 2870}, {'item_id': 63, 'time': 2870}, {'item_id': 17, 'time': 2870}], 'xp_t': [0, 175, 396, 704, 846, 1034, 1171, 1627, 2081, 2427, 2829, 3161, 3511, 3903, 4895, 5052, 5568, 5881, 6205, 6428, 7463, 8286, 8676, 9233, 9664, 10392, 11682, 12043, 12624, 13459, 13459, 13577, 14836, 15228, 16062, 16745, 17307, 20343, 21087, 22179, 22642, 22942, 23192, 24343, 24343, 24668, 26986, 30854, 31022, 31393, 31470], 'sen_log': [], 'kills_log': [{'player': 7, 'unit': 'npc_dota_hero_viper', 'time': 831}, {'player': 5, 'unit': 'npc_dota_hero_phoenix', 'time': 1014}, {'player': 8, 'unit': 'npc_dota_hero_skeleton_king', 'time': 1155}, {'player': 6, 'unit': 'npc_dota_hero_juggernaut', 'time': 1162}, {'player': 9, 'unit': 'npc_dota_hero_jakiro', 'time': 1525}, {'player': 8, 'unit': 'npc_dota_hero_skeleton_king', 'time': 1892}, {'player': 8, 'unit': 'npc_dota_hero_skeleton_king', 'time': 2121}, {'player': 9, 'unit': 'npc_dota_hero_jakiro', 'time': 2336}, {'player': 8, 'unit': 'npc_dota_hero_skeleton_king', 'time': 2536}, {'player': 8, 'unit': 'npc_dota_hero_skeleton_king', 'time': 2743}, {'player': 6, 'unit': 'npc_dota_hero_juggernaut', 'time': 2758}, {'player': 7, 'unit': 'npc_dota_hero_viper', 'time': 2762}, {'player': 6, 'unit': 'npc_dota_hero_juggernaut', 'time': 2785}, {'player': 9, 'unit': 'npc_dota_hero_jakiro', 'time': 2789}], 'gold_t': [0, 277, 579, 955, 1294, 1720, 2017, 2436, 2738, 3058, 3443, 3834, 4093, 4435, 5278, 5573, 6029, 6437, 6660, 7297, 8332, 9025, 9287, 9674, 9934, 10379, 11425, 11815, 12405, 13329, 13429, 13642, 14314, 14579, 15280, 15847, 16545, 17890, 18652, 19323, 19766, 20037, 20347, 20715, 20815, 21108, 23114, 25946, 26246, 26723, 26811], 'ability_upgrades': [{'time': 51, 'ability': 5334, 'level': 1}, {'time': 131, 'ability': 5335, 'level': 2}, {'time': 204, 'ability': 5334, 'level': 3}, {'time': 319, 'ability': 5335, 'level': 4}, {'time': 451, 'ability': 5335, 'level': 5}, {'time': 528, 'ability': 5337, 'level': 6}, {'time': 639, 'ability': 5335, 'level': 7}, {'time': 731, 'ability': 5336, 'level': 8}, {'time': 897, 'ability': 5334, 'level': 9}, {'time': 1004, 'ability': 5334, 'level': 10}, {'time': 1093, 'ability': 5337, 'level': 11}, {'time': 1314, 'ability': 5002, 'level': 12}, {'time': 1400, 'ability': 5336, 'level': 13}, {'time': 1618, 'ability': 5336, 'level': 14}, {'time': 1639, 'ability': 5336, 'level': 15}, {'time': 1870, 'ability': 5337, 'level': 16}, {'time': 2037, 'ability': 5002, 'level': 17}, {'time': 2179, 'ability': 5002, 'level': 18}, {'time': 2284, 'ability': 5002, 'level': 19}, {'time': 2323, 'ability': 5002, 'level': 20}, {'time': 2531, 'ability': 5002, 'level': 21}, {'time': 2808, 'ability': 5002, 'level': 22}, {'time': 2861, 'ability': 5002, 'level': 23}, {'time': 2861, 'ability': 5002, 'level': 24}], 'hero_id': 67}, {'buyback_log': [], 'lh_t': [0, 0, 2, 2, 2, 2, 2, 4, 4, 6, 7, 7, 7, 10, 10, 10, 18, 18, 18, 18, 18, 18, 18, 18, 18, 18, 19, 19, 21, 23, 23, 24, 26, 31, 31, 31, 31, 32, 41, 41, 43, 43, 43, 43, 50, 52, 52, 54, 57, 60, 61], 'obs_log': [{'xy': [111, 130], 'time': 1711}, {'xy': [136, 164], 'time': 1732}], 'purchase_log': [{'item_id': 45, 'time': -84}, {'item_id': 44, 'time': -78}, {'item_id': 39, 'time': -76}, {'item_id': 38, 'time': -75}, {'item_id': 38, 'time': -75}, {'item_id': 16, 'time': -57}, {'item_id': 16, 'time': -54}, {'item_id': 84, 'time': 181}, {'item_id': 29, 'time': 300}, {'item_id': 46, 'time': 365}, {'item_id': 46, 'time': 585}, {'item_id': 59, 'time': 766}, {'item_id': 180, 'time': 811}, {'item_id': 46, 'time': 1063}, {'item_id': 20, 'time': 1068}, {'item_id': 36, 'time': 1068}, {'item_id': 34, 'time': 1068}, {'item_id': 46, 'time': 1094}, {'item_id': 1, 'time': 1289}, {'item_id': 21, 'time': 1433}, {'item_id': 46, 'time': 1537}, {'item_id': 60, 'time': 1753}, {'item_id': 46, 'time': 1896}, {'item_id': 23, 'time': 1967}, {'item_id': 22, 'time': 1967}, {'item_id': 108, 'time': 1972}, {'item_id': 58, 'time': 2290}], 'xp_t': [0, 13, 115, 177, 335, 523, 732, 1136, 1293, 1448, 1541, 1749, 1913, 2036, 2149, 2529, 3782, 3862, 5315, 5538, 5904, 6176, 7653, 7653, 8908, 10085, 11708, 12032, 12159, 12697, 12828, 12884, 13916, 17113, 17113, 17319, 17411, 20269, 20661, 23610, 24090, 24090, 26050, 26050, 26236, 26494, 26494, 26609, 26937, 27163, 27223], 'sen_log': [], 'kills_log': [{'player': 9, 'unit': 'npc_dota_hero_jakiro', 'time': 905}, {'player': 5, 'unit': 'npc_dota_hero_phoenix', 'time': 1140}, {'player': 7, 'unit': 'npc_dota_hero_viper', 'time': 1287}, {'player': 9, 'unit': 'npc_dota_hero_jakiro', 'time': 1409}, {'player': 5, 'unit': 'npc_dota_hero_phoenix', 'time': 2508}], 'gold_t': [0, 99, 243, 343, 499, 599, 872, 1044, 1144, 1320, 1456, 1556, 1656, 1827, 1927, 2105, 2905, 3005, 3897, 4157, 4579, 4769, 5427, 5527, 6203, 6501, 7082, 7284, 7474, 7915, 8015, 8159, 8918, 9882, 10142, 10242, 10542, 12195, 12487, 13335, 13512, 13612, 14351, 14451, 14686, 14877, 14977, 15116, 15362, 15515, 15606], 'ability_upgrades': [{'time': 54, 'ability': 5462, 'level': 1}, {'time': 267, 'ability': 5463, 'level': 2}, {'time': 351, 'ability': 5462, 'level': 3}, {'time': 472, 'ability': 5464, 'level': 4}, {'time': 598, 'ability': 5462, 'level': 5}, {'time': 821, 'ability': 5465, 'level': 6}, {'time': 971, 'ability': 5462, 'level': 7}, {'time': 972, 'ability': 5463, 'level': 8}, {'time': 1144, 'ability': 5463, 'level': 9}, {'time': 1150, 'ability': 5463, 'level': 10}, {'time': 1278, 'ability': 5465, 'level': 11}, {'time': 1479, 'ability': 5464, 'level': 12}, {'time': 1531, 'ability': 5464, 'level': 13}, {'time': 1588, 'ability': 5464, 'level': 14}, {'time': 1640, 'ability': 5002, 'level': 15}, {'time': 1986, 'ability': 5465, 'level': 16}, {'time': 1987, 'ability': 5002, 'level': 17}, {'time': 2019, 'ability': 5002, 'level': 18}, {'time': 2279, 'ability': 5002, 'level': 19}, {'time': 2357, 'ability': 5002, 'level': 20}, {'time': 2403, 'ability': 5002, 'level': 21}, {'time': 2578, 'ability': 5002, 'level': 22}], 'hero_id': 88}, {'buyback_log': [{'key': None, 'time': 2779}], 'lh_t': [0, 2, 7, 10, 13, 14, 19, 19, 25, 26, 28, 29, 31, 32, 32, 33, 33, 33, 33, 33, 33, 37, 37, 44, 44, 44, 44, 44, 47, 48, 48, 48, 49, 57, 58, 60, 60, 60, 69, 71, 71, 78, 79, 79, 87, 93, 93, 97, 105, 112, 112], 'obs_log': [], 'purchase_log': [{'item_id': 16, 'time': -83}, {'item_id': 16, 'time': -83}, {'item_id': 41, 'time': 61}, {'item_id': 29, 'time': 169}, {'item_id': 46, 'time': 262}, {'item_id': 46, 'time': 400}, {'item_id': 46, 'time': 406}, {'item_id': 59, 'time': 564}, {'item_id': 180, 'time': 570}, {'item_id': 46, 'time': 786}, {'item_id': 46, 'time': 786}, {'item_id': 46, 'time': 860}, {'item_id': 46, 'time': 1062}, {'item_id': 21, 'time': 1169}, {'item_id': 46, 'time': 1204}, {'item_id': 23, 'time': 1404}, {'item_id': 46, 'time': 1453}, {'item_id': 60, 'time': 1501}, {'item_id': 46, 'time': 1532}, {'item_id': 22, 'time': 1932}, {'item_id': 108, 'time': 1950}, {'item_id': 46, 'time': 1951}, {'item_id': 61, 'time': 2015}, {'item_id': 58, 'time': 2327}, {'item_id': 60, 'time': 2329}, {'item_id': 129, 'time': 2334}, {'item_id': 235, 'time': 2334}, {'item_id': 46, 'time': 2578}, {'item_id': 37, 'time': 2715}], 'xp_t': [0, 268, 691, 1000, 1433, 1722, 2208, 2381, 2765, 2930, 3425, 3649, 3938, 4215, 4246, 4323, 4923, 5346, 5346, 5346, 6177, 6487, 7951, 8431, 8876, 10031, 10878, 10878, 11208, 11258, 11348, 11404, 11443, 14201, 14490, 14612, 14642, 17121, 17508, 18337, 18361, 19027, 19721, 19721, 20399, 20724, 22654, 26545, 26841, 27155, 27155], 'sen_log': [], 'kills_log': [{'player': 5, 'unit': 'npc_dota_hero_phoenix', 'time': 349}, {'player': 5, 'unit': 'npc_dota_hero_phoenix', 'time': 935}, {'player': 9, 'unit': 'npc_dota_hero_jakiro', 'time': 1158}, {'player': 5, 'unit': 'npc_dota_hero_phoenix', 'time': 1495}, {'player': 8, 'unit': 'npc_dota_hero_skeleton_king', 'time': 1506}, {'player': 8, 'unit': 'npc_dota_hero_skeleton_king', 'time': 1829}, {'player': 7, 'unit': 'npc_dota_hero_viper', 'time': 1924}, {'player': 5, 'unit': 'npc_dota_hero_phoenix', 'time': 1936}, {'player': 6, 'unit': 'npc_dota_hero_juggernaut', 'time': 2210}, {'player': 8, 'unit': 'npc_dota_hero_skeleton_king', 'time': 2210}, {'player': 7, 'unit': 'npc_dota_hero_viper', 'time': 2213}, {'player': 9, 'unit': 'npc_dota_hero_jakiro', 'time': 2215}, {'player': 5, 'unit': 'npc_dota_hero_phoenix', 'time': 2339}, {'player': 8, 'unit': 'npc_dota_hero_skeleton_king', 'time': 2492}, {'player': 5, 'unit': 'npc_dota_hero_phoenix', 'time': 2763}], 'gold_t': [0, 178, 475, 698, 911, 1051, 1483, 1645, 1976, 2112, 2291, 2503, 2676, 2891, 2991, 3226, 3515, 3798, 3898, 4158, 4817, 5123, 5860, 6278, 6607, 7405, 7898, 7998, 8210, 8520, 8620, 8720, 8867, 10914, 11215, 11365, 11665, 14151, 14456, 14921, 15021, 15399, 15670, 15770, 16211, 16489, 17618, 19218, 19408, 19659, 19728], 'ability_upgrades': [{'time': 0, 'ability': 5110, 'level': 1}, {'time': 98, 'ability': 5111, 'level': 2}, {'time': 156, 'ability': 5111, 'level': 3}, {'time': 215, 'ability': 5112, 'level': 4}, {'time': 296, 'ability': 5111, 'level': 5}, {'time': 391, 'ability': 5113, 'level': 6}, {'time': 507, 'ability': 5111, 'level': 7}, {'time': 629, 'ability': 5112, 'level': 8}, {'time': 996, 'ability': 5112, 'level': 9}, {'time': 1200, 'ability': 5112, 'level': 10}, {'time': 1220, 'ability': 5113, 'level': 11}, {'time': 1414, 'ability': 5110, 'level': 12}, {'time': 1527, 'ability': 5110, 'level': 13}, {'time': 1567, 'ability': 5002, 'level': 14}, {'time': 1986, 'ability': 5110, 'level': 15}, {'time': 2004, 'ability': 5113, 'level': 16}, {'time': 2275, 'ability': 5002, 'level': 17}, {'time': 2277, 'ability': 5002, 'level': 18}, {'time': 2506, 'ability': 5002, 'level': 19}, {'time': 2809, 'ability': 5002, 'level': 20}, {'time': 2826, 'ability': 5002, 'level': 21}, {'time': 2851, 'ability': 5002, 'level': 22}], 'hero_id': 22}, {'buyback_log': [], 'lh_t': [0, 0, 0, 0, 0, 0, 0, 0, 0, 0, 0, 0, 0, 1, 2, 3, 4, 4, 4, 8, 8, 13, 13, 14, 15, 15, 15, 15, 16, 18, 19, 19, 19, 19, 19, 19, 20, 21, 25, 27, 27, 27, 27, 30, 35, 42, 42, 45, 48, 51, 51], 'obs_log': [{'xy': [145, 118], 'time': 4}, {'xy': [121, 136], 'time': 514}, {'xy': [98, 154], 'time': 675}, {'xy': [120, 137], 'time': 976}, {'xy': [148, 107], 'time': 1195}, {'xy': [111, 130], 'time': 1568}, {'xy': [128, 146], 'time': 1592}, {'xy': [115, 93], 'time': 1991}, {'xy': [144, 118], 'time': 2006}, {'xy': [148, 107], 'time': 2287}], 'purchase_log': [{'item_id': 42, 'time': -82}, {'item_id': 44, 'time': -81}, {'item_id': 42, 'time': -69}, {'item_id': 16, 'time': -57}, {'item_id': 16, 'time': -57}, {'item_id': 34, 'time': -51}, {'item_id': 38, 'time': -49}, {'item_id': 181, 'time': 165}, {'item_id': 20, 'time': 314}, {'item_id': 36, 'time': 400}, {'item_id': 29, 'time': 441}, {'item_id': 46, 'time': 453}, {'item_id': 42, 'time': 455}, {'item_id': 42, 'time': 455}, {'item_id': 42, 'time': 919}, {'item_id': 42, 'time': 1042}, {'item_id': 42, 'time': 1042}, {'item_id': 46, 'time': 1044}, {'item_id': 60, 'time': 1058}, {'item_id': 21, 'time': 1204}, {'item_id': 42, 'time': 1265}, {'item_id': 43, 'time': 1359}, {'item_id': 42, 'time': 1435}, {'item_id': 42, 'time': 1436}, {'item_id': 23, 'time': 1668}, {'item_id': 22, 'time': 1904}, {'item_id': 108, 'time': 1913}, {'item_id': 42, 'time': 1933}, {'item_id': 42, 'time': 1938}, {'item_id': 42, 'time': 2242}, {'item_id': 59, 'time': 2248}, {'item_id': 180, 'time': 2258}, {'item_id': 46, 'time': 2434}, {'item_id': 4, 'time': 2441}, {'item_id': 28, 'time': 2441}, {'item_id': 187, 'time': 2441}], 'xp_t': [0, 75, 296, 480, 591, 768, 1008, 1028, 1218, 1218, 1218, 1393, 1568, 1733, 2746, 3009, 3261, 3554, 3878, 4441, 5011, 5180, 5180, 5345, 6600, 6682, 7439, 7511, 7638, 7896, 8008, 8064, 9057, 9057, 9096, 9168, 9198, 10909, 10961, 10961, 11093, 11180, 11849, 11874, 12493, 12705, 12705, 12807, 13001, 13123, 13175], 'sen_log': [{'xy': [137, 90], 'time': 1391}, {'xy': [144, 91], 'time': 1400}], 'kills_log': [{'player': 9, 'unit': 'npc_dota_hero_jakiro', 'time': 446}, {'player': 8, 'unit': 'npc_dota_hero_skeleton_king', 'time': 1024}, {'player': 8, 'unit': 'npc_dota_hero_skeleton_king', 'time': 1838}, {'player': 5, 'unit': 'npc_dota_hero_phoenix', 'time': 2204}], 'gold_t': [0, 99, 199, 299, 399, 557, 760, 860, 1194, 1294, 1394, 1494, 1594, 1739, 2299, 2437, 2579, 2814, 3308, 3728, 4201, 4490, 4590, 4733, 5379, 5479, 5820, 5920, 6020, 6367, 6508, 6608, 7425, 7525, 7785, 7885, 8225, 9816, 10080, 10265, 10365, 10465, 10767, 10930, 11173, 11463, 11563, 11724, 11896, 12062, 12131], 'ability_upgrades': [{'time': 43, 'ability': 5347, 'level': 1}, {'time': 147, 'ability': 5345, 'level': 2}, {'time': 253, 'ability': 5347, 'level': 3}, {'time': 419, 'ability': 5346, 'level': 4}, {'time': 723, 'ability': 5347, 'level': 5}, {'time': 894, 'ability': 5348, 'level': 6}, {'time': 896, 'ability': 5346, 'level': 7}, {'time': 1011, 'ability': 5346, 'level': 8}, {'time': 1208, 'ability': 5346, 'level': 9}, {'time': 1463, 'ability': 5347, 'level': 10}, {'time': 1478, 'ability': 5348, 'level': 11}, {'time': 1987, 'ability': 5345, 'level': 12}, {'time': 1988, 'ability': 5345, 'level': 13}, {'time': 2284, 'ability': 5345, 'level': 14}, {'time': 2647, 'ability': 5002, 'level': 15}], 'hero_id': 68}, {'buyback_log': [{'key': None, 'time': 2926}], 'lh_t': [0, 0, 1, 1, 1, 1, 4, 5, 5, 10, 11, 13, 17, 21, 21, 21, 26, 28, 29, 34, 34, 35, 35, 41, 41, 42, 45, 54, 73, 75, 76, 79, 82, 100, 107, 113, 113, 118, 124, 129, 144, 156, 157, 157, 167, 167, 167, 172, 183, 195, 200], 'obs_log': [{'xy': [89, 161], 'time': -30}], 'purchase_log': [{'item_id': 182, 'time': -83}, {'item_id': 44, 'time': -81}, {'item_id': 39, 'time': -80}, {'item_id': 38, 'time': -79}, {'item_id': 38, 'time': -77}, {'item_id': 46, 'time': 200}, {'item_id': 29, 'time': 365}, {'item_id': 46, 'time': 450}, {'item_id': 46, 'time': 541}, {'item_id': 46, 'time': 712}, {'item_id': 180, 'time': 752}, {'item_id': 59, 'time': 752}, {'item_id': 46, 'time': 768}, {'item_id': 46, 'time': 768}, {'item_id': 46, 'time': 856}, {'item_id': 46, 'time': 909}, {'item_id': 46, 'time': 1041}, {'item_id': 28, 'time': 1042}, {'item_id': 27, 'time': 1090}, {'item_id': 178, 'time': 1127}, {'item_id': 60, 'time': 1205}, {'item_id': 46, 'time': 1207}, {'item_id': 59, 'time': 1312}, {'item_id': 46, 'time': 1427}, {'item_id': 46, 'time': 1427}, {'item_id': 46, 'time': 1527}, {'item_id': 61, 'time': 1730}, {'item_id': 129, 'time': 1745}, {'item_id': 121, 'time': 1745}, {'item_id': 46, 'time': 1931}, {'item_id': 46, 'time': 1931}, {'item_id': 60, 'time': 1991}, {'item_id': 58, 'time': 2582}, {'item_id': 61, 'time': 2851}, {'item_id': 180, 'time': 2866}, {'item_id': 180, 'time': 2873}, {'item_id': 129, 'time': 2878}, {'item_id': 235, 'time': 2879}], 'xp_t': [0, 31, 299, 423, 423, 454, 908, 1217, 1500, 2083, 2413, 2588, 2776, 3707, 3769, 3815, 4178, 4562, 6911, 7134, 8535, 8907, 9284, 9676, 10121, 10285, 10522, 10924, 12140, 12388, 12438, 12556, 14868, 15334, 15706, 15948, 15978, 18877, 19082, 19320, 19601, 19905, 23153, 24304, 24553, 24640, 26595, 30335, 30655, 30841, 30942], 'sen_log': [], 'kills_log': [{'player': 9, 'unit': 'npc_dota_hero_jakiro', 'time': 736}, {'player': 9, 'unit': 'npc_dota_hero_jakiro', 'time': 1070}, {'player': 7, 'unit': 'npc_dota_hero_viper', 'time': 1077}, {'player': 9, 'unit': 'npc_dota_hero_jakiro', 'time': 1278}, {'player': 7, 'unit': 'npc_dota_hero_viper', 'time': 1392}, {'player': 8, 'unit': 'npc_dota_hero_skeleton_king', 'time': 1484}, {'player': 6, 'unit': 'npc_dota_hero_juggernaut', 'time': 1902}, {'player': 4, 'unit': 'npc_dota_hero_shredder', 'time': 1907}, {'player': 9, 'unit': 'npc_dota_hero_jakiro', 'time': 2495}, {'player': 7, 'unit': 'npc_dota_hero_viper', 'time': 2503}], 'gold_t': [0, 99, 243, 343, 443, 543, 765, 909, 1151, 1458, 1599, 1782, 2074, 2671, 2771, 2965, 3269, 3615, 5045, 5512, 6154, 6299, 6740, 7082, 7628, 7774, 7995, 8410, 9213, 9568, 9713, 9938, 11391, 11876, 12354, 12704, 13004, 13305, 13531, 13735, 14162, 14519, 15912, 16012, 16321, 16421, 17783, 18875, 19200, 19521, 19627], 'ability_upgrades': [{'time': 101, 'ability': 5526, 'level': 1}, {'time': 164, 'ability': 5525, 'level': 2}, {'time': 365, 'ability': 5525, 'level': 3}, {'time': 417, 'ability': 5524, 'level': 4}, {'time': 506, 'ability': 5525, 'level': 5}, {'time': 580, 'ability': 5527, 'level': 6}, {'time': 721, 'ability': 5524, 'level': 7}, {'time': 802, 'ability': 5524, 'level': 8}, {'time': 1075, 'ability': 5524, 'level': 9}, {'time': 1139, 'ability': 5527, 'level': 10}, {'time': 1141, 'ability': 5526, 'level': 11}, {'time': 1223, 'ability': 5525, 'level': 12}, {'time': 1349, 'ability': 5526, 'level': 13}, {'time': 1611, 'ability': 5002, 'level': 14}, {'time': 1737, 'ability': 5526, 'level': 15}, {'time': 1953, 'ability': 5527, 'level': 16}, {'time': 2022, 'ability': 5002, 'level': 17}, {'time': 2271, 'ability': 5002, 'level': 18}, {'time': 2283, 'ability': 5002, 'level': 19}, {'time': 2563, 'ability': 5002, 'level': 20}, {'time': 2564, 'ability': 5002, 'level': 21}, {'time': 2809, 'ability': 5002, 'level': 22}, {'time': 2833, 'ability': 5002, 'level': 23}, {'time': 2859, 'ability': 5002, 'level': 24}], 'hero_id': 98}, {'buyback_log': [], 'lh_t': [0, 0, 1, 2, 3, 3, 3, 4, 11, 11, 11, 11, 12, 14, 18, 18, 19, 19, 22, 24, 25, 33, 34, 39, 43, 43, 43, 43, 43, 43, 44, 44, 44, 45, 45, 47, 48, 55, 55, 57, 57, 62, 62, 62, 62, 62, 62, 62, 62, 62, 67], 'obs_log': [{'xy': [158, 101], 'time': 8}], 'purchase_log': [{'item_id': 13, 'time': -79}, {'item_id': 13, 'time': -79}, {'item_id': 44, 'time': -79}, {'item_id': 39, 'time': -78}, {'item_id': 28, 'time': 226}, {'item_id': 92, 'time': 294}, {'item_id': 216, 'time': 310}, {'item_id': 29, 'time': 498}, {'item_id': 39, 'time': 547}, {'item_id': 27, 'time': 621}, {'item_id': 12, 'time': 724}, {'item_id': 46, 'time': 764}, {'item_id': 214, 'time': 772}, {'item_id': 46, 'time': 960}, {'item_id': 27, 'time': 1054}, {'item_id': 46, 'time': 1179}, {'item_id': 23, 'time': 1309}, {'item_id': 102, 'time': 1411}, {'item_id': 46, 'time': 1583}, {'item_id': 21, 'time': 1596}, {'item_id': 17, 'time': 1596}, {'item_id': 46, 'time': 1788}, {'item_id': 162, 'time': 1814}, {'item_id': 46, 'time': 2041}, {'item_id': 53, 'time': 2262}, {'item_id': 46, 'time': 2281}, {'item_id': 46, 'time': 2615}, {'item_id': 114, 'time': 2869}, {'item_id': 61, 'time': 2869}], 'xp_t': [0, 124, 329, 525, 751, 782, 813, 937, 1492, 1770, 1894, 1894, 2327, 2611, 3168, 3426, 3906, 4031, 4330, 4487, 4580, 5302, 7560, 8000, 11011, 11787, 11787, 11872, 12052, 12883, 13085, 13785, 14337, 14337, 14337, 14617, 15827, 16356, 16356, 16768, 16768, 17067, 18276, 18276, 18276, 19840, 21017, 21017, 21017, 21034, 22427], 'sen_log': [{'xy': [153, 92], 'time': 118}], 'kills_log': [{'player': 0, 'unit': 'npc_dota_hero_spectre', 'time': 1394}, {'player': 2, 'unit': 'npc_dota_hero_zuus', 'time': 1404}, {'player': 1, 'unit': 'npc_dota_hero_nyx_assassin', 'time': 1411}, {'player': 4, 'unit': 'npc_dota_hero_shredder', 'time': 1488}], 'gold_t': [0, 99, 242, 382, 520, 620, 720, 856, 1272, 1372, 1472, 1572, 1716, 2063, 2331, 2591, 2931, 3031, 3256, 3470, 3612, 4028, 4629, 5111, 6573, 7061, 7161, 7261, 7361, 7779, 8124, 8396, 9236, 9375, 9475, 9647, 10280, 11736, 11836, 12017, 12117, 12420, 12834, 12934, 13409, 14259, 15127, 15507, 15607, 15707, 16310], 'ability_upgrades': [{'time': -23, 'ability': 5623, 'level': 1}, {'time': 150, 'ability': 5625, 'level': 2}, {'time': 254, 'ability': 5625, 'level': 3}, {'time': 483, 'ability': 5626, 'level': 4}, {'time': 541, 'ability': 5625, 'level': 5}, {'time': 750, 'ability': 5630, 'level': 6}, {'time': 838, 'ability': 5625, 'level': 7}, {'time': 925, 'ability': 5626, 'level': 8}, {'time': 1148, 'ability': 5626, 'level': 9}, {'time': 1359, 'ability': 5626, 'level': 10}, {'time': 1360, 'ability': 5630, 'level': 11}, {'time': 1481, 'ability': 5623, 'level': 12}, {'time': 1482, 'ability': 5623, 'level': 13}, {'time': 1482, 'ability': 5623, 'level': 14}, {'time': 1716, 'ability': 5002, 'level': 15}, {'time': 1912, 'ability': 5630, 'level': 16}, {'time': 2305, 'ability': 5002, 'level': 17}, {'time': 2511, 'ability': 5002, 'level': 18}, {'time': 2724, 'ability': 5002, 'level': 19}, {'time': 2827, 'ability': 5002, 'level': 20}], 'hero_id': 110}, {'buyback_log': [{'key': None, 'time': 2762}], 'lh_t': [0, 4, 7, 12, 18, 25, 29, 36, 41, 44, 51, 59, 63, 73, 82, 86, 95, 108, 122, 130, 130, 131, 136, 149, 161, 172, 189, 199, 216, 218, 228, 232, 236, 236, 242, 260, 263, 266, 266, 268, 279, 290, 299, 299, 315, 327, 327, 327, 327, 331, 331], 'obs_log': [], 'purchase_log': [{'item_id': 20, 'time': -82}, {'item_id': 16, 'time': -82}, {'item_id': 16, 'time': -82}, {'item_id': 36, 'time': -82}, {'item_id': 34, 'time': -82}, {'item_id': 14, 'time': -79}, {'item_id': 14, 'time': -79}, {'item_id': 14, 'time': -75}, {'item_id': 14, 'time': -75}, {'item_id': 71, 'time': -75}, {'item_id': 182, 'time': -75}, {'item_id': 20, 'time': -73}, {'item_id': 13, 'time': -73}, {'item_id': 73, 'time': -73}, {'item_id': 44, 'time': -71}, {'item_id': 39, 'time': -70}, {'item_id': 38, 'time': -68}, {'item_id': 14, 'time': -67}, {'item_id': 20, 'time': -63}, {'item_id': 29, 'time': 113}, {'item_id': 2, 'time': 218}, {'item_id': 50, 'time': 218}, {'item_id': 2, 'time': 218}, {'item_id': 26, 'time': 389}, {'item_id': 172, 'time': 498}, {'item_id': 46, 'time': 504}, {'item_id': 28, 'time': 573}, {'item_id': 12, 'time': 585}, {'item_id': 75, 'time': 615}, {'item_id': 88, 'time': 615}, {'item_id': 212, 'time': 615}, {'item_id': 22, 'time': 736}, {'item_id': 18, 'time': 736}, {'item_id': 170, 'time': 794}, {'item_id': 21, 'time': 900}, {'item_id': 46, 'time': 902}, {'item_id': 17, 'time': 959}, {'item_id': 162, 'time': 1052}, {'item_id': 154, 'time': 1052}, {'item_id': 46, 'time': 1216}, {'item_id': 46, 'time': 1217}, {'item_id': 24, 'time': 1574}, {'item_id': 24, 'time': 1575}, {'item_id': 60, 'time': 1705}, {'item_id': 181, 'time': 1706}, {'item_id': 160, 'time': 1763}, {'item_id': 17, 'time': 1991}, {'item_id': 7, 'time': 1991}, {'item_id': 143, 'time': 1991}, {'item_id': 208, 'time': 2315}, {'item_id': 54, 'time': 2315}, {'item_id': 29, 'time': 2708}, {'item_id': 48, 'time': 2708}, {'item_id': 220, 'time': 2711}, {'item_id': 21, 'time': 2755}, {'item_id': 8, 'time': 2755}, {'item_id': 116, 'time': 2755}], 'xp_t': [0, 113, 323, 529, 795, 1128, 1254, 1542, 2194, 2506, 2672, 2849, 3814, 4443, 4891, 5441, 5786, 6689, 7606, 8194, 9175, 9344, 9630, 10469, 11388, 12060, 13138, 13667, 14369, 16680, 16895, 18355, 19038, 19038, 19466, 19896, 21138, 21667, 21667, 22136, 23679, 24428, 28559, 32779, 32779, 32779, 32779, 32779, 32779, 32779, 32779], 'sen_log': [], 'kills_log': [{'player': 4, 'unit': 'npc_dota_hero_shredder', 'time': 198}, {'player': 3, 'unit': 'npc_dota_hero_ancient_apparition', 'time': 455}, {'player': 4, 'unit': 'npc_dota_hero_shredder', 'time': 530}, {'player': 4, 'unit': 'npc_dota_hero_shredder', 'time': 694}, {'player': 3, 'unit': 'npc_dota_hero_ancient_apparition', 'time': 699}, {'player': 4, 'unit': 'npc_dota_hero_shredder', 'time': 882}, {'player': 1, 'unit': 'npc_dota_hero_nyx_assassin', 'time': 1144}, {'player': 2, 'unit': 'npc_dota_hero_zuus', 'time': 1160}, {'player': 2, 'unit': 'npc_dota_hero_zuus', 'time': 1691}, {'player': 0, 'unit': 'npc_dota_hero_spectre', 'time': 1733}, {'player': 1, 'unit': 'npc_dota_hero_nyx_assassin', 'time': 1836}, {'player': 0, 'unit': 'npc_dota_hero_spectre', 'time': 1900}, {'player': 2, 'unit': 'npc_dota_hero_zuus', 'time': 2128}, {'player': 4, 'unit': 'npc_dota_hero_shredder', 'time': 2131}, {'player': 3, 'unit': 'npc_dota_hero_ancient_apparition', 'time': 2136}, {'player': 1, 'unit': 'npc_dota_hero_nyx_assassin', 'time': 2392}, {'player': 0, 'unit': 'npc_dota_hero_spectre', 'time': 2490}, {'player': 2, 'unit': 'npc_dota_hero_zuus', 'time': 2499}, {'player': 3, 'unit': 'npc_dota_hero_ancient_apparition', 'time': 2509}, {'player': 1, 'unit': 'npc_dota_hero_nyx_assassin', 'time': 2517}, {'player': 4, 'unit': 'npc_dota_hero_shredder', 'time': 2527}, {'player': 0, 'unit': 'npc_dota_hero_spectre', 'time': 2546}, {'player': 4, 'unit': 'npc_dota_hero_shredder', 'time': 2651}, {'player': 3, 'unit': 'npc_dota_hero_ancient_apparition', 'time': 2735}, {'player': 2, 'unit': 'npc_dota_hero_zuus', 'time': 2771}, {'player': 4, 'unit': 'npc_dota_hero_shredder', 'time': 2773}, {'player': 4, 'unit': 'npc_dota_hero_shredder', 'time': 2923}, {'player': 3, 'unit': 'npc_dota_hero_ancient_apparition', 'time': 2958}], 'gold_t': [0, 260, 486, 797, 1468, 1850, 2113, 2491, 3138, 3592, 3975, 4424, 5306, 5875, 6366, 7145, 7669, 8253, 8948, 9311, 10142, 10314, 10653, 11235, 11848, 12392, 13153, 13565, 14320, 15544, 16242, 17078, 18740, 18840, 19282, 20127, 21549, 22593, 22693, 22877, 23914, 24657, 27115, 28646, 29739, 31364, 32339, 33142, 33242, 33992, 34501], 'ability_upgrades': [{'time': 92, 'ability': 5028, 'level': 1}, {'time': 137, 'ability': 5027, 'level': 2}, {'time': 231, 'ability': 5029, 'level': 3}, {'time': 325, 'ability': 5002, 'level': 4}, {'time': 463, 'ability': 5002, 'level': 5}, {'time': 517, 'ability': 5030, 'level': 6}, {'time': 641, 'ability': 5002, 'level': 7}, {'time': 763, 'ability': 5002, 'level': 8}, {'time': 835, 'ability': 5002, 'level': 9}, {'time': 948, 'ability': 5027, 'level': 10}, {'time': 1037, 'ability': 5030, 'level': 11}, {'time': 1212, 'ability': 5002, 'level': 12}, {'time': 1242, 'ability': 5002, 'level': 13}, {'time': 1437, 'ability': 5027, 'level': 14}, {'time': 1551, 'ability': 5002, 'level': 15}, {'time': 1652, 'ability': 5030, 'level': 16}, {'time': 1755, 'ability': 5027, 'level': 17}, {'time': 1870, 'ability': 5002, 'level': 18}, {'time': 1963, 'ability': 5029, 'level': 19}, {'time': 2212, 'ability': 5029, 'level': 20}, {'time': 2460, 'ability': 5029, 'level': 21}, {'time': 2589, 'ability': 5028, 'level': 22}, {'time': 2612, 'ability': 5002, 'level': 23}, {'time': 2612, 'ability': 5028, 'level': 24}, {'time': 2612, 'ability': 5028, 'level': 25}], 'hero_id': 8}, {'buyback_log': [], 'lh_t': [0, 1, 6, 13, 18, 23, 29, 31, 32, 35, 38, 46, 51, 60, 63, 63, 72, 76, 83, 83, 83, 92, 92, 92, 92, 100, 108, 119, 123, 124, 125, 126, 127, 127, 127, 131, 134, 136, 136, 140, 143, 146, 146, 146, 146, 147, 151, 151, 153, 160, 160], 'obs_log': [], 'purchase_log': [{'item_id': 27, 'time': -82}, {'item_id': 16, 'time': -75}, {'item_id': 16, 'time': -75}, {'item_id': 16, 'time': -74}, {'item_id': 44, 'time': -69}, {'item_id': 34, 'time': 86}, {'item_id': 94, 'time': 113}, {'item_id': 20, 'time': 155}, {'item_id': 46, 'time': 167}, {'item_id': 36, 'time': 192}, {'item_id': 29, 'time': 218}, {'item_id': 25, 'time': 289}, {'item_id': 63, 'time': 335}, {'item_id': 17, 'time': 335}, {'item_id': 46, 'time': 452}, {'item_id': 31, 'time': 508}, {'item_id': 27, 'time': 565}, {'item_id': 27, 'time': 591}, {'item_id': 56, 'time': 724}, {'item_id': 131, 'time': 749}, {'item_id': 46, 'time': 801}, {'item_id': 46, 'time': 802}, {'item_id': 46, 'time': 812}, {'item_id': 4, 'time': 871}, {'item_id': 28, 'time': 872}, {'item_id': 90, 'time': 881}, {'item_id': 4, 'time': 887}, {'item_id': 28, 'time': 887}, {'item_id': 187, 'time': 924}, {'item_id': 32, 'time': 1071}, {'item_id': 229, 'time': 1138}, {'item_id': 46, 'time': 1346}, {'item_id': 60, 'time': 1366}, {'item_id': 46, 'time': 1454}, {'item_id': 21, 'time': 1593}, {'item_id': 23, 'time': 1654}, {'item_id': 46, 'time': 1655}, {'item_id': 22, 'time': 1655}, {'item_id': 46, 'time': 1662}, {'item_id': 108, 'time': 1699}, {'item_id': 24, 'time': 2034}, {'item_id': 58, 'time': 2263}, {'item_id': 57, 'time': 2394}, {'item_id': 96, 'time': 2407}, {'item_id': 46, 'time': 2435}], 'xp_t': [0, 389, 781, 1235, 1689, 2502, 2925, 3296, 3420, 4440, 4605, 5209, 5601, 6204, 8330, 8392, 8934, 9059, 11950, 11950, 13432, 13714, 15196, 15196, 15196, 15800, 16480, 17148, 17521, 18303, 18441, 19726, 21154, 21154, 21193, 21499, 22496, 23025, 23025, 23432, 24650, 25131, 26468, 26468, 26468, 26687, 28010, 28010, 28060, 28552, 29817], 'sen_log': [], 'kills_log': [{'player': 2, 'unit': 'npc_dota_hero_zuus', 'time': 256}, {'player': 2, 'unit': 'npc_dota_hero_zuus', 'time': 522}, {'player': 3, 'unit': 'npc_dota_hero_ancient_apparition', 'time': 799}, {'player': 2, 'unit': 'npc_dota_hero_zuus', 'time': 823}, {'player': 4, 'unit': 'npc_dota_hero_shredder', 'time': 831}, {'player': 4, 'unit': 'npc_dota_hero_shredder', 'time': 1020}, {'player': 0, 'unit': 'npc_dota_hero_spectre', 'time': 1026}, {'player': 1, 'unit': 'npc_dota_hero_nyx_assassin', 'time': 1031}, {'player': 3, 'unit': 'npc_dota_hero_ancient_apparition', 'time': 1038}, {'player': 2, 'unit': 'npc_dota_hero_zuus', 'time': 1068}, {'player': 4, 'unit': 'npc_dota_hero_shredder', 'time': 1172}, {'player': 4, 'unit': 'npc_dota_hero_shredder', 'time': 1283}, {'player': 2, 'unit': 'npc_dota_hero_zuus', 'time': 1288}, {'player': 3, 'unit': 'npc_dota_hero_ancient_apparition', 'time': 1838}, {'player': 2, 'unit': 'npc_dota_hero_zuus', 'time': 1843}, {'player': 4, 'unit': 'npc_dota_hero_shredder', 'time': 2204}, {'player': 1, 'unit': 'npc_dota_hero_nyx_assassin', 'time': 2707}], 'gold_t': [0, 238, 541, 922, 1223, 1894, 2236, 2423, 2561, 3257, 3475, 3931, 4233, 5018, 6372, 6632, 7331, 7594, 9637, 9737, 10154, 10451, 11468, 11648, 11748, 12195, 12613, 13193, 13598, 14319, 14666, 15518, 16885, 16985, 17085, 17390, 17981, 19368, 19468, 19875, 20277, 20495, 20861, 20961, 21436, 22195, 23586, 23966, 24100, 24456, 24720], 'ability_upgrades': [{'time': 78, 'ability': 5220, 'level': 1}, {'time': 108, 'ability': 5219, 'level': 2}, {'time': 137, 'ability': 5220, 'level': 3}, {'time': 199, 'ability': 5218, 'level': 4}, {'time': 255, 'ability': 5220, 'level': 5}, {'time': 318, 'ability': 5221, 'level': 6}, {'time': 383, 'ability': 5220, 'level': 7}, {'time': 452, 'ability': 5219, 'level': 8}, {'time': 585, 'ability': 5219, 'level': 9}, {'time': 751, 'ability': 5219, 'level': 10}, {'time': 826, 'ability': 5221, 'level': 11}, {'time': 939, 'ability': 5218, 'level': 12}, {'time': 1067, 'ability': 5218, 'level': 13}, {'time': 1100, 'ability': 5002, 'level': 14}, {'time': 1142, 'ability': 5218, 'level': 15}, {'time': 1284, 'ability': 5221, 'level': 16}, {'time': 1531, 'ability': 5002, 'level': 17}, {'time': 1646, 'ability': 5002, 'level': 18}, {'time': 1913, 'ability': 5002, 'level': 19}, {'time': 1995, 'ability': 5002, 'level': 20}, {'time': 2267, 'ability': 5002, 'level': 21}, {'time': 2526, 'ability': 5002, 'level': 22}, {'time': 2779, 'ability': 5002, 'level': 23}], 'hero_id': 47}, {'buyback_log': [], 'lh_t': [0, 0, 1, 1, 1, 4, 4, 5, 6, 6, 6, 6, 7, 10, 11, 11, 11, 12, 12, 14, 14, 17, 21, 22, 23, 23, 23, 24, 25, 25, 27, 27, 27, 27, 28, 28, 28, 28, 28, 29, 30, 31, 31, 31, 31, 33, 34, 34, 34, 37, 37], 'obs_log': [{'xy': [112, 131], 'time': 1075}, {'xy': [144, 90], 'time': 1356}, {'xy': [148, 107], 'time': 1615}, {'xy': [112, 130], 'time': 1673}, {'xy': [148, 107], 'time': 1698}, {'xy': [148, 107], 'time': 2443}, {'xy': [134, 106], 'time': 2457}, {'xy': [89, 124], 'time': 2664}, {'xy': [112, 131], 'time': 2903}, {'xy': [94, 96], 'time': 2940}], 'purchase_log': [{'item_id': 45, 'time': -78}, {'item_id': 38, 'time': -68}, {'item_id': 38, 'time': -66}, {'item_id': 44, 'time': -65}, {'item_id': 39, 'time': -65}, {'item_id': 216, 'time': -38}, {'item_id': 29, 'time': 207}, {'item_id': 182, 'time': 384}, {'item_id': 44, 'time': 385}, {'item_id': 180, 'time': 572}, {'item_id': 59, 'time': 572}, {'item_id': 46, 'time': 600}, {'item_id': 46, 'time': 649}, {'item_id': 39, 'time': 725}, {'item_id': 42, 'time': 916}, {'item_id': 42, 'time': 920}, {'item_id': 42, 'time': 920}, {'item_id': 46, 'time': 1054}, {'item_id': 46, 'time': 1257}, {'item_id': 37, 'time': 1332}, {'item_id': 1, 'time': 1335}, {'item_id': 46, 'time': 1336}, {'item_id': 42, 'time': 1638}, {'item_id': 42, 'time': 1639}, {'item_id': 27, 'time': 1982}, {'item_id': 16, 'time': 1982}, {'item_id': 94, 'time': 1982}, {'item_id': 4, 'time': 1982}, {'item_id': 16, 'time': 1982}, {'item_id': 86, 'time': 1982}, {'item_id': 79, 'time': 1982}, {'item_id': 30, 'time': 2245}, {'item_id': 42, 'time': 2399}, {'item_id': 42, 'time': 2399}, {'item_id': 42, 'time': 2399}, {'item_id': 231, 'time': 2405}, {'item_id': 31, 'time': 2563}, {'item_id': 42, 'time': 2566}, {'item_id': 42, 'time': 2618}, {'item_id': 46, 'time': 2620}, {'item_id': 37, 'time': 2735}], 'xp_t': [0, 31, 72, 72, 132, 329, 455, 537, 1256, 1537, 1703, 1836, 2018, 2213, 2408, 3298, 3298, 3908, 4262, 4419, 5400, 5543, 6449, 6650, 9599, 10437, 10443, 10519, 10638, 11430, 11583, 12323, 12413, 12413, 12613, 12849, 14049, 14578, 14578, 14743, 15868, 16012, 18570, 18570, 18570, 18745, 19922, 19922, 19922, 21414, 22566], 'sen_log': [], 'kills_log': [{'player': 4, 'unit': 'npc_dota_hero_shredder', 'time': 450}, {'player': 2, 'unit': 'npc_dota_hero_zuus', 'time': 899}, {'player': 2, 'unit': 'npc_dota_hero_zuus', 'time': 1014}, {'player': 3, 'unit': 'npc_dota_hero_ancient_apparition', 'time': 1417}], 'gold_t': [0, 99, 221, 321, 490, 680, 780, 902, 1527, 1706, 1806, 1906, 2044, 2395, 2535, 3221, 3521, 3988, 4180, 4356, 4577, 4787, 5208, 5430, 6669, 7020, 7120, 7258, 7394, 7827, 8367, 8591, 9431, 9531, 9673, 9773, 10326, 11300, 11400, 11541, 11907, 12045, 12866, 12966, 13441, 14084, 15028, 15408, 15508, 16092, 16550], 'ability_upgrades': [{'time': -25, 'ability': 5086, 'level': 1}, {'time': 310, 'ability': 5087, 'level': 2}, {'time': 474, 'ability': 5086, 'level': 3}, {'time': 520, 'ability': 5087, 'level': 4}, {'time': 592, 'ability': 5086, 'level': 5}, {'time': 770, 'ability': 5089, 'level': 6}, {'time': 964, 'ability': 5086, 'level': 7}, {'time': 966, 'ability': 5087, 'level': 8}, {'time': 1161, 'ability': 5087, 'level': 9}, {'time': 1224, 'ability': 5088, 'level': 10}, {'time': 1353, 'ability': 5089, 'level': 11}, {'time': 1473, 'ability': 5088, 'level': 12}, {'time': 1478, 'ability': 5088, 'level': 13}, {'time': 1552, 'ability': 5088, 'level': 14}, {'time': 1898, 'ability': 5002, 'level': 15}, {'time': 2195, 'ability': 5089, 'level': 16}, {'time': 2454, 'ability': 5002, 'level': 17}, {'time': 2561, 'ability': 5002, 'level': 18}, {'time': 2768, 'ability': 5002, 'level': 19}, {'time': 2983, 'ability': 5002, 'level': 20}], 'hero_id': 42}, {'buyback_log': [], 'lh_t': [0, 0, 0, 0, 0, 0, 1, 1, 1, 1, 1, 1, 1, 1, 3, 7, 7, 8, 10, 10, 10, 15, 17, 17, 17, 17, 18, 19, 20, 20, 21, 26, 35, 36, 37, 37, 38, 39, 39, 44, 44, 44, 45, 45, 49, 50, 50, 50, 50, 51, 51], 'obs_log': [{'xy': [120, 137], 'time': 15}, {'xy': [111, 147], 'time': 675}, {'xy': [148, 106], 'time': 956}, {'xy': [111, 130], 'time': 1639}, {'xy': [141, 106], 'time': 1699}, {'xy': [91, 96], 'time': 1878}], 'purchase_log': [{'item_id': 42, 'time': -65}, {'item_id': 42, 'time': -62}, {'item_id': 44, 'time': -61}, {'item_id': 218, 'time': -58}, {'item_id': 43, 'time': -58}, {'item_id': 16, 'time': -50}, {'item_id': 16, 'time': -50}, {'item_id': 16, 'time': -50}, {'item_id': 218, 'time': -34}, {'item_id': 29, 'time': 225}, {'item_id': 84, 'time': 328}, {'item_id': 39, 'time': 402}, {'item_id': 46, 'time': 606}, {'item_id': 42, 'time': 615}, {'item_id': 42, 'time': 615}, {'item_id': 46, 'time': 647}, {'item_id': 43, 'time': 714}, {'item_id': 218, 'time': 763}, {'item_id': 20, 'time': 769}, {'item_id': 36, 'time': 769}, {'item_id': 34, 'time': 769}, {'item_id': 28, 'time': 938}, {'item_id': 46, 'time': 941}, {'item_id': 23, 'time': 1039}, {'item_id': 46, 'time': 1205}, {'item_id': 46, 'time': 1205}, {'item_id': 57, 'time': 1435}, {'item_id': 42, 'time': 1447}, {'item_id': 42, 'time': 1447}, {'item_id': 42, 'time': 1447}, {'item_id': 43, 'time': 1452}, {'item_id': 218, 'time': 1453}, {'item_id': 42, 'time': 1453}, {'item_id': 218, 'time': 1454}, {'item_id': 42, 'time': 1454}, {'item_id': 100, 'time': 1459}, {'item_id': 46, 'time': 1586}, {'item_id': 42, 'time': 1813}, {'item_id': 218, 'time': 1814}, {'item_id': 43, 'time': 1814}, {'item_id': 61, 'time': 1963}, {'item_id': 180, 'time': 1963}, {'item_id': 59, 'time': 1963}, {'item_id': 60, 'time': 1963}, {'item_id': 129, 'time': 1973}, {'item_id': 46, 'time': 1997}, {'item_id': 46, 'time': 1997}, {'item_id': 46, 'time': 2282}, {'item_id': 46, 'time': 2402}, {'item_id': 235, 'time': 2721}, {'item_id': 58, 'time': 2721}, {'item_id': 48, 'time': 2870}], 'xp_t': [0, 82, 292, 436, 702, 870, 996, 1160, 1222, 1468, 1614, 1791, 2108, 2211, 2374, 3006, 3006, 3616, 5747, 5747, 6113, 6778, 6849, 6942, 8401, 8401, 8407, 8483, 8667, 9051, 9191, 10476, 11853, 12114, 12237, 12723, 13984, 14498, 14498, 14806, 14806, 15105, 15156, 15156, 16351, 16447, 17376, 20063, 20063, 21338, 22005], 'sen_log': [{'xy': [112, 131], 'time': 19}, {'xy': [100, 155], 'time': 787}, {'xy': [144, 109], 'time': 957}, {'xy': [144, 109], 'time': 1619}, {'xy': [112, 131], 'time': 1636}, {'xy': [111, 130], 'time': 1932}, {'xy': [149, 121], 'time': 2029}], 'kills_log': [{'player': 0, 'unit': 'npc_dota_hero_spectre', 'time': 1279}, {'player': 4, 'unit': 'npc_dota_hero_shredder', 'time': 1400}], 'gold_t': [0, 99, 199, 299, 485, 585, 724, 824, 924, 1123, 1223, 1323, 1608, 1868, 2059, 2625, 2925, 3282, 4239, 4339, 4590, 4931, 5338, 5518, 6381, 6481, 6597, 6737, 6887, 7335, 7678, 8318, 10069, 10333, 10483, 10701, 11570, 12567, 12667, 12935, 13035, 13135, 13285, 13385, 13948, 14555, 15379, 16442, 16542, 16880, 17175], 'ability_upgrades': [{'time': 86, 'ability': 5299, 'level': 1}, {'time': 152, 'ability': 5298, 'level': 2}, {'time': 263, 'ability': 5299, 'level': 3}, {'time': 377, 'ability': 5297, 'level': 4}, {'time': 604, 'ability': 5298, 'level': 5}, {'time': 769, 'ability': 5300, 'level': 6}, {'time': 960, 'ability': 5298, 'level': 7}, {'time': 1107, 'ability': 5299, 'level': 8}, {'time': 1107, 'ability': 5298, 'level': 9}, {'time': 1143, 'ability': 5299, 'level': 10}, {'time': 1246, 'ability': 5300, 'level': 11}, {'time': 1479, 'ability': 5297, 'level': 12}, {'time': 1802, 'ability': 5297, 'level': 13}, {'time': 1910, 'ability': 5297, 'level': 14}, {'time': 2015, 'ability': 5002, 'level': 15}, {'time': 2225, 'ability': 5300, 'level': 16}, {'time': 2656, 'ability': 5002, 'level': 17}, {'time': 2771, 'ability': 5002, 'level': 18}, {'time': 2851, 'ability': 5002, 'level': 19}, {'time': 2989, 'ability': 5002, 'level': 20}], 'hero_id': 64}], 'objectives': [{'player2': None, 'player1': 6, 'type': 'firstblood', 'time': 198}, {'player': 7, 'team': 1, 'type': 'tower_kill', 'time': 765}, {'player': 9, 'team': 1, 'type': 'tower_kill', 'time': 850}, {'player': None, 'team': 1, 'type': 'tower_kill', 'time': 906}, {'player': 0, 'team': 0, 'type': 'tower_kill', 'time': 1119}, {'player': None, 'type': 'tower_deny', 'time': 1343}, {'player': 0, 'team': 0, 'type': 'tower_kill', 'time': 1699}, {'team': 1, 'type': 'roshan_kill', 'time': 1725}, {'player': 8, 'type': 'aegis', 'time': 1725}, {'player': 8, 'team': 1, 'type': 'tower_kill', 'time': 1768}, {'player': 6, 'team': 1, 'type': 'tower_kill', 'time': 1865}, {'barracks': 512, 'type': 'barracks_kill', 'time': 1872}, {'barracks': 256, 'type': 'barracks_kill', 'time': 1881}, {'player': None, 'team': 0, 'type': 'tower_kill', 'time': 1989}, {'player': 0, 'team': 0, 'type': 'tower_kill', 'time': 2109}, {'player': 9, 'team': 1, 'type': 'tower_kill', 'time': 2113}, {'player': 5, 'team': 1, 'type': 'tower_kill', 'time': 2178}, {'barracks': 64, 'type': 'barracks_kill', 'time': 2191}, {'barracks': 128, 'type': 'barracks_kill', 'time': 2192}, {'team': 1, 'type': 'roshan_kill', 'time': 2591}, {'player': 6, 'type': 'aegis', 'time': 2594}, {'player': 7, 'team': 1, 'type': 'tower_kill', 'time': 2687}, {'barracks': 2048, 'type': 'barracks_kill', 'time': 2693}, {'barracks': 1024, 'type': 'barracks_kill', 'time': 2700}, {'player': None, 'team': 1, 'type': 'tower_kill', 'time': 2752}, {'player': None, 'team': 1, 'type': 'tower_kill', 'time': 2760}], 'lobby_type': 0}\n"
     ]
    }
   ],
   "source": [
    "import json\n",
    "import bz2\n",
    "\n",
    "with bz2.BZ2File('./matches.jsonlines.bz2') as matches_file:\n",
    "    for line in matches_file:\n",
    "        match = json.loads(line)\n",
    "        print(match)\n",
    "        # Обработка матча\n",
    "        break"
   ]
  },
  {
   "cell_type": "markdown",
   "metadata": {},
   "source": [
    "#### Описание полей в записи матча\n",
    "\n",
    "```python\n",
    "{\n",
    "    \"match_id\": 247,            # идентификатор матча\n",
    "    \"start_time\": 1430514316,   # дата/время начала матча, unixtime\n",
    "    \"lobby_type\": 0,            # тип комнаты, в которой собираются игроки \n",
    "                                #   (расшифровка в dictionaries/lobbies.csv)\n",
    " \n",
    "    # стадия выбора героев\n",
    "    \"picks_bans\": [\n",
    "        {\n",
    "            \"order\": 0,       # порядковый номер действия\n",
    "            \"is_pick\": false, # true если команда выбирает героя, false — если банит\n",
    "            \"team\": 1,        # команда, совершающая действие (0 — Radiant, 1 — Dire)\n",
    "            \"hero_id\": 95     # герой, связанный с действием \n",
    "                              #    (расшифровка в dictionaries/heroes.csv)\n",
    "        }, \n",
    "        ...\n",
    "    ],\n",
    "\n",
    "    # информация про каждого игрока, список ровно из 10 элементов\n",
    "    # игроки с индексами от 0 до 4 — из команды Radiant, от 5 до 9 — Dire\n",
    "    \"players\": [ \n",
    "        { \n",
    "        \n",
    "            # герой игрока (расшифровка в dictionaries/heroes.csv)\n",
    "            \"hero_id\": 67,  \n",
    "\n",
    "            # временные ряды (отсчеты указаны в поле \"times\")\n",
    "            \"xp_t\": [0, 13, 115, 177, 335, ...],   # опыт\n",
    "            \"gold_t\": [0, 99, 243, 343, 499, ...], # золото + стоимость всех купленных вещей (net worth)\n",
    "            \"lh_t\": [0, 0, 2, 2, 2, ...],          # количество убитых юнитов (не героев) противника\n",
    "\n",
    "            # список событий: улучшение способностей героя\n",
    "            \"ability_upgrades\": [\n",
    "                {\n",
    "                    \"time\": 51,      # игровое время\n",
    "                    \"level\": 1,      # уровень игрока, на котором произошло улучшение\n",
    "                    \"ability\": 5334  # способность, которая была улучшена \n",
    "                                     # (расшифровка в dictionaries/abilities.csv)\n",
    "                }, \n",
    "                ...\n",
    "            ],\n",
    "\n",
    "            # список событий: убийства\n",
    "            \"kills_log\": [\n",
    "                {\n",
    "                    \"time\": 831,    # игровое время\n",
    "                    \"player\": 7,    # индекс игрока, чей герой был убит \n",
    "                                    #   (не заполнено, если был убит не герой)\n",
    "                    \"unit\": \"npc_dota_hero_viper\" # тип убитого юнита\n",
    "                }, \n",
    "                ...\n",
    "            ],\n",
    "\n",
    "            # список событий: покупка предметов\n",
    "            \"purchase_log\": [\n",
    "                {\n",
    "                    \"time\": -73,     # игровое время\n",
    "                                     #   точка отсчета игрового времени (ноль) начинается через\n",
    "                                     #   несколько минут после фактического начала матча, поэтому\n",
    "                                     #   время некоторых событий может быть отрицательным\n",
    "                    \"item_id\": 44    # купленный предмер (расшифровка в dictionaries/items.csv)\n",
    "                }, \n",
    "                ...\n",
    "            ]\n",
    "\n",
    "            # список событий: выкуп героя из таверны\n",
    "            \"buyback_log\": [\n",
    "                {\"time\": 2507},\n",
    "                ...\n",
    "            ],\n",
    "\n",
    "            # список событий: установка героем \"наблюдателей\", позволяющих команде \n",
    "            # следить за чатью игрового поля на некотором расстоянии от точки установки\n",
    "            \"obs_log\": [\n",
    "                {\n",
    "                    \"time\": 1711,    # игровое время установки\n",
    "                    \"xy\": [111, 130] # координаты игрового поля\n",
    "                }, \n",
    "                ...\n",
    "            ],\n",
    "            \"sen_log\": [], # аналогично полю obs_log, другой тип \"наблюдателя\"\n",
    "\n",
    "        },\n",
    "        ...\n",
    "    ],\n",
    "    \n",
    "    # отсчеты игрового времени, в которые вычисляются значения временных рядов\n",
    "    \"times\": [0, 60, 120, 180, ...],\n",
    "\n",
    "    # ключевые события игры\n",
    "    \"objectives\": [\n",
    "        {\n",
    "            \"time\": 198,           # время события\n",
    "            \"type\": \"firstblood\",  # тип события\n",
    "            \"player1\": 6,          # параметры события, могут содержать\n",
    "            \"player2\": 1           #   индексы игроков (player), \n",
    "                                   #   номер команды (team, 0 — Radiant, 1 — Dire)\n",
    "        }, \n",
    "        {\n",
    "            \"time\": 765, \n",
    "            \"type\": \"tower_kill\", \n",
    "            \"player\": 7, \n",
    "            \"team\": 1\n",
    "        }, \n",
    "        ...\n",
    "    ]\n",
    "    \n",
    "    # итог матча (отсутствует в тестовых матчах)\n",
    "    \"finish\": {\n",
    "        \"duration\": 2980,             # длительность в секундах\n",
    "        \"radiant_win\": false,         # true, если победила команда Radiant\n",
    "        \"tower_status_radiant\": 0,    # состояние башен у команд к концу игры\n",
    "        \"tower_status_dire\": 1972,    #   (см. описание битовой маски)\n",
    "        \"barracks_status_dire\": 63,   # состояние бараков у команд к концу игры\n",
    "        \"barracks_status_radiant\": 0  #   (см. описание битовой маски)\n",
    "    }\n",
    "}\n",
    "```"
   ]
  },
  {
   "cell_type": "markdown",
   "metadata": {},
   "source": [
    "#### Описание полей состояния башен и бараков\n",
    "\n",
    "Состояние башен к концу игры задается целым числом, закодировано в битах:\n",
    "\n",
    "```\n",
    "┌─┬─┬─┬─┬─────────────────────── Not used.\n",
    "│ │ │ │ │ ┌───────────────────── Ancient Bottom\n",
    "│ │ │ │ │ │ ┌─────────────────── Ancient Top\n",
    "│ │ │ │ │ │ │ ┌───────────────── Bottom Tier 3\n",
    "│ │ │ │ │ │ │ │ ┌─────────────── Bottom Tier 2\n",
    "│ │ │ │ │ │ │ │ │ ┌───────────── Bottom Tier 1\n",
    "│ │ │ │ │ │ │ │ │ │ ┌─────────── Middle Tier 3\n",
    "│ │ │ │ │ │ │ │ │ │ │ ┌───────── Middle Tier 2\n",
    "│ │ │ │ │ │ │ │ │ │ │ │ ┌─────── Middle Tier 1\n",
    "│ │ │ │ │ │ │ │ │ │ │ │ │ ┌───── Top Tier 3\n",
    "│ │ │ │ │ │ │ │ │ │ │ │ │ │ ┌─── Top Tier 2\n",
    "│ │ │ │ │ │ │ │ │ │ │ │ │ │ │ ┌─ Top Tier 1\n",
    "│ │ │ │ │ │ │ │ │ │ │ │ │ │ │ │\n",
    "0 0 0 0 0 0 0 0 0 0 0 0 0 0 0 0\n",
    "```\n",
    "\n",
    "Состояние бараков к концу игры закодировано в битах целого числа:\n",
    "\n",
    "```\n",
    "┌─┬───────────── Not used.\n",
    "│ │ ┌─────────── Bottom Ranged\n",
    "│ │ │ ┌───────── Bottom Melee\n",
    "│ │ │ │ ┌─────── Middle Ranged\n",
    "│ │ │ │ │ ┌───── Middle Melee\n",
    "│ │ │ │ │ │ ┌─── Top Ranged\n",
    "│ │ │ │ │ │ │ ┌─ Top Melee\n",
    "│ │ │ │ │ │ │ │\n",
    "0 0 0 0 0 0 0 0\n",
    "```"
   ]
  },
  {
   "cell_type": "markdown",
   "metadata": {},
   "source": [
    "## Извлечение признаков\n",
    "\n",
    "Скрипт extract_features.py производит извлечение признаков из известной информации о матче за первые 5 игровых минут, составляет из них таблицу. Таблица поможет вам быстрее сформировать матрицу объект-признак, вектор ответов и начать применять методы машинного обучения для решения поставленной задачи.\n",
    "\n",
    "Признаки, представленные в таблице `features.csv`, по мнению экспертов в предметной области являются наиболее важными для решения задачи предсказания победы команды. Тем не менее, не обязательно использовать эти признаки в исходном виде для применения методов машинного обучения — вы можете сделать новые признаки из имеющихся. Более того, признаки в файле `features.csv` содержат не всю информацию, известную про матч за первые 5 игровых минут. Вы можете использовать скрипт `extract_features.py` как пример и добавлять свои признаки для улучшения качества предсказания."
   ]
  },
  {
   "cell_type": "markdown",
   "metadata": {},
   "source": [
    "#### Пример чтения файла с признаками"
   ]
  },
  {
   "cell_type": "code",
   "execution_count": 5,
   "metadata": {},
   "outputs": [
    {
     "data": {
      "text/html": [
       "<div>\n",
       "<style scoped>\n",
       "    .dataframe tbody tr th:only-of-type {\n",
       "        vertical-align: middle;\n",
       "    }\n",
       "\n",
       "    .dataframe tbody tr th {\n",
       "        vertical-align: top;\n",
       "    }\n",
       "\n",
       "    .dataframe thead th {\n",
       "        text-align: right;\n",
       "    }\n",
       "</style>\n",
       "<table border=\"1\" class=\"dataframe\">\n",
       "  <thead>\n",
       "    <tr style=\"text-align: right;\">\n",
       "      <th></th>\n",
       "      <th>start_time</th>\n",
       "      <th>lobby_type</th>\n",
       "      <th>r1_hero</th>\n",
       "      <th>r1_level</th>\n",
       "      <th>r1_xp</th>\n",
       "      <th>r1_gold</th>\n",
       "      <th>r1_lh</th>\n",
       "      <th>r1_kills</th>\n",
       "      <th>r1_deaths</th>\n",
       "      <th>r1_items</th>\n",
       "      <th>...</th>\n",
       "      <th>dire_boots_count</th>\n",
       "      <th>dire_ward_observer_count</th>\n",
       "      <th>dire_ward_sentry_count</th>\n",
       "      <th>dire_first_ward_time</th>\n",
       "      <th>duration</th>\n",
       "      <th>radiant_win</th>\n",
       "      <th>tower_status_radiant</th>\n",
       "      <th>tower_status_dire</th>\n",
       "      <th>barracks_status_radiant</th>\n",
       "      <th>barracks_status_dire</th>\n",
       "    </tr>\n",
       "    <tr>\n",
       "      <th>match_id</th>\n",
       "      <th></th>\n",
       "      <th></th>\n",
       "      <th></th>\n",
       "      <th></th>\n",
       "      <th></th>\n",
       "      <th></th>\n",
       "      <th></th>\n",
       "      <th></th>\n",
       "      <th></th>\n",
       "      <th></th>\n",
       "      <th></th>\n",
       "      <th></th>\n",
       "      <th></th>\n",
       "      <th></th>\n",
       "      <th></th>\n",
       "      <th></th>\n",
       "      <th></th>\n",
       "      <th></th>\n",
       "      <th></th>\n",
       "      <th></th>\n",
       "      <th></th>\n",
       "    </tr>\n",
       "  </thead>\n",
       "  <tbody>\n",
       "    <tr>\n",
       "      <th>0</th>\n",
       "      <td>1430198770</td>\n",
       "      <td>7</td>\n",
       "      <td>11</td>\n",
       "      <td>5</td>\n",
       "      <td>2098</td>\n",
       "      <td>1489</td>\n",
       "      <td>20</td>\n",
       "      <td>0</td>\n",
       "      <td>0</td>\n",
       "      <td>7</td>\n",
       "      <td>...</td>\n",
       "      <td>4</td>\n",
       "      <td>2</td>\n",
       "      <td>2</td>\n",
       "      <td>-52.0</td>\n",
       "      <td>2874</td>\n",
       "      <td>1</td>\n",
       "      <td>1796</td>\n",
       "      <td>0</td>\n",
       "      <td>51</td>\n",
       "      <td>0</td>\n",
       "    </tr>\n",
       "    <tr>\n",
       "      <th>1</th>\n",
       "      <td>1430220345</td>\n",
       "      <td>0</td>\n",
       "      <td>42</td>\n",
       "      <td>4</td>\n",
       "      <td>1188</td>\n",
       "      <td>1033</td>\n",
       "      <td>9</td>\n",
       "      <td>0</td>\n",
       "      <td>1</td>\n",
       "      <td>12</td>\n",
       "      <td>...</td>\n",
       "      <td>4</td>\n",
       "      <td>3</td>\n",
       "      <td>1</td>\n",
       "      <td>-5.0</td>\n",
       "      <td>2463</td>\n",
       "      <td>1</td>\n",
       "      <td>1974</td>\n",
       "      <td>0</td>\n",
       "      <td>63</td>\n",
       "      <td>1</td>\n",
       "    </tr>\n",
       "    <tr>\n",
       "      <th>2</th>\n",
       "      <td>1430227081</td>\n",
       "      <td>7</td>\n",
       "      <td>33</td>\n",
       "      <td>4</td>\n",
       "      <td>1319</td>\n",
       "      <td>1270</td>\n",
       "      <td>22</td>\n",
       "      <td>0</td>\n",
       "      <td>0</td>\n",
       "      <td>12</td>\n",
       "      <td>...</td>\n",
       "      <td>4</td>\n",
       "      <td>3</td>\n",
       "      <td>1</td>\n",
       "      <td>13.0</td>\n",
       "      <td>2130</td>\n",
       "      <td>0</td>\n",
       "      <td>0</td>\n",
       "      <td>1830</td>\n",
       "      <td>0</td>\n",
       "      <td>63</td>\n",
       "    </tr>\n",
       "    <tr>\n",
       "      <th>3</th>\n",
       "      <td>1430263531</td>\n",
       "      <td>1</td>\n",
       "      <td>29</td>\n",
       "      <td>4</td>\n",
       "      <td>1779</td>\n",
       "      <td>1056</td>\n",
       "      <td>14</td>\n",
       "      <td>0</td>\n",
       "      <td>0</td>\n",
       "      <td>5</td>\n",
       "      <td>...</td>\n",
       "      <td>4</td>\n",
       "      <td>2</td>\n",
       "      <td>0</td>\n",
       "      <td>27.0</td>\n",
       "      <td>1459</td>\n",
       "      <td>0</td>\n",
       "      <td>1920</td>\n",
       "      <td>2047</td>\n",
       "      <td>50</td>\n",
       "      <td>63</td>\n",
       "    </tr>\n",
       "    <tr>\n",
       "      <th>4</th>\n",
       "      <td>1430282290</td>\n",
       "      <td>7</td>\n",
       "      <td>13</td>\n",
       "      <td>4</td>\n",
       "      <td>1431</td>\n",
       "      <td>1090</td>\n",
       "      <td>8</td>\n",
       "      <td>1</td>\n",
       "      <td>0</td>\n",
       "      <td>8</td>\n",
       "      <td>...</td>\n",
       "      <td>3</td>\n",
       "      <td>3</td>\n",
       "      <td>0</td>\n",
       "      <td>-16.0</td>\n",
       "      <td>2449</td>\n",
       "      <td>0</td>\n",
       "      <td>4</td>\n",
       "      <td>1974</td>\n",
       "      <td>3</td>\n",
       "      <td>63</td>\n",
       "    </tr>\n",
       "  </tbody>\n",
       "</table>\n",
       "<p>5 rows × 108 columns</p>\n",
       "</div>"
      ],
      "text/plain": [
       "          start_time  lobby_type  r1_hero  r1_level  r1_xp  r1_gold  r1_lh  \\\n",
       "match_id                                                                     \n",
       "0         1430198770           7       11         5   2098     1489     20   \n",
       "1         1430220345           0       42         4   1188     1033      9   \n",
       "2         1430227081           7       33         4   1319     1270     22   \n",
       "3         1430263531           1       29         4   1779     1056     14   \n",
       "4         1430282290           7       13         4   1431     1090      8   \n",
       "\n",
       "          r1_kills  r1_deaths  r1_items  ...  dire_boots_count  \\\n",
       "match_id                                 ...                     \n",
       "0                0          0         7  ...                 4   \n",
       "1                0          1        12  ...                 4   \n",
       "2                0          0        12  ...                 4   \n",
       "3                0          0         5  ...                 4   \n",
       "4                1          0         8  ...                 3   \n",
       "\n",
       "          dire_ward_observer_count  dire_ward_sentry_count  \\\n",
       "match_id                                                     \n",
       "0                                2                       2   \n",
       "1                                3                       1   \n",
       "2                                3                       1   \n",
       "3                                2                       0   \n",
       "4                                3                       0   \n",
       "\n",
       "          dire_first_ward_time  duration  radiant_win  tower_status_radiant  \\\n",
       "match_id                                                                      \n",
       "0                        -52.0      2874            1                  1796   \n",
       "1                         -5.0      2463            1                  1974   \n",
       "2                         13.0      2130            0                     0   \n",
       "3                         27.0      1459            0                  1920   \n",
       "4                        -16.0      2449            0                     4   \n",
       "\n",
       "          tower_status_dire  barracks_status_radiant  barracks_status_dire  \n",
       "match_id                                                                    \n",
       "0                         0                       51                     0  \n",
       "1                         0                       63                     1  \n",
       "2                      1830                        0                    63  \n",
       "3                      2047                       50                    63  \n",
       "4                      1974                        3                    63  \n",
       "\n",
       "[5 rows x 108 columns]"
      ]
     },
     "execution_count": 5,
     "metadata": {},
     "output_type": "execute_result"
    }
   ],
   "source": [
    "import pandas as pd\n",
    "features = pd.read_csv('./features.csv', index_col='match_id')\n",
    "\n",
    "features.head()"
   ]
  },
  {
   "cell_type": "markdown",
   "metadata": {},
   "source": [
    "#### Описание признаков в таблице\n",
    "\n",
    "- `match_id`: идентификатор матча в наборе данных\n",
    "- `start_time`: время начала матча (unixtime)\n",
    "- `lobby_type`: тип комнаты, в которой собираются игроки (расшифровка в `dictionaries/lobbies.csv`)\n",
    "- Наборы признаков для каждого игрока (игроки команды Radiant — префикс `rN`, Dire — `dN`):\n",
    "    - `r1_hero`: герой игрока (расшифровка в dictionaries/heroes.csv)\n",
    "    - `r1_level`: максимальный достигнутый уровень героя (за первые 5 игровых минут)\n",
    "    - `r1_xp`: максимальный полученный опыт\n",
    "    - `r1_gold`: достигнутая ценность героя\n",
    "    - `r1_lh`: число убитых юнитов\n",
    "    - `r1_kills`: число убитых игроков\n",
    "    - `r1_deaths`: число смертей героя\n",
    "    - `r1_items`: число купленных предметов\n",
    "- Признаки события \"первая кровь\" (first blood). Если событие \"первая кровь\" не успело произойти за первые 5 минут, то признаки принимают пропущенное значение\n",
    "    - `first_blood_time`: игровое время первой крови\n",
    "    - `first_blood_team`: команда, совершившая первую кровь (0 — Radiant, 1 — Dire)\n",
    "    - `first_blood_player1`: игрок, причастный к событию\n",
    "    - `first_blood_player2`: второй игрок, причастный к событию\n",
    "- Признаки для каждой команды (префиксы `radiant_` и `dire_`)\n",
    "    - `radiant_bottle_time`: время первого приобретения командой предмета \"bottle\"\n",
    "    - `radiant_courier_time`: время приобретения предмета \"courier\" \n",
    "    - `radiant_flying_courier_time`: время приобретения предмета \"flying_courier\" \n",
    "    - `radiant_tpscroll_count`: число предметов \"tpscroll\" за первые 5 минут\n",
    "    - `radiant_boots_count`: число предметов \"boots\"\n",
    "    - `radiant_ward_observer_count`: число предметов \"ward_observer\"\n",
    "    - `radiant_ward_sentry_count`: число предметов \"ward_sentry\"\n",
    "    - `radiant_first_ward_time`: время установки командой первого \"наблюдателя\", т.е. предмета, который позволяет видеть часть игрового поля\n",
    "- Итог матча (данные поля отсутствуют в тестовой выборке, поскольку содержат информацию, выходящую за пределы первых 5 минут матча)\n",
    "    - `duration`: длительность\n",
    "    - `radiant_win`: 1, если победила команда Radiant, 0 — иначе\n",
    "    - Состояние башен и барраков к концу матча (см. описание полей набора данных)\n",
    "        - `tower_status_radiant`\n",
    "        - `tower_status_dire`\n",
    "        - `barracks_status_radiant`\n",
    "        - `barracks_status_dire`"
   ]
  },
  {
   "cell_type": "markdown",
   "metadata": {},
   "source": [
    "## Метрика качества\n",
    "\n",
    "В качестве метрики качества мы будем использовать площадь под ROC-кривой (AUC-ROC). Обратите внимание, что AUC-ROC — это метрика качества для алгоритма, выдающего оценки принадлежности первому классу. Оба алгоритма, которые будут использоваться в проекте — градиентный бустинг, и логистическая регрессия — умеют выдавать такие оценки. Для этого нужно получать предсказания с помощью функции predict_proba. Она возвращает два столбца: первый содержит оценки принадлежности нулевому классу, второй — первому классу. Вам нужны значения из второго столбца:\n",
    "```python\n",
    "pred = clf.predict_proba(X_test)[:, 1]\n",
    "```"
   ]
  },
  {
   "cell_type": "markdown",
   "metadata": {},
   "source": [
    "## Руководство по решению\n",
    "\n",
    "Вам необходимо провести описанные ниже два этапа исследования, написать по результатам каждого этапа небольшой отчет (ниже указаны вопросы, ответы на которые должны содержаться в отчете), и предоставить для ревью данный отчет и код, с помощью которого вы выполнили задание.\n",
    "\n",
    "**Обратите внимание:** высокое качество работы на кросс-валидации (близкое к 100%) — это в первую очередь повод задуматься о том, правильно ли вы обучаете модель. Возможно, вы заглядываете в будущее или настраиваетесь на неправильном наборе признаков."
   ]
  },
  {
   "cell_type": "markdown",
   "metadata": {},
   "source": [
    "### Подход 1: градиентный бустинг \"в лоб\"\n",
    "Один из самых универсальных алгоритмов, изученных в нашем курсе, является градиентный бустинг. Он не очень требователен к данным, восстанавливает нелинейные зависимости, и хорошо работает на многих наборах данных, что и обуславливает его популярность. Вполне разумной мыслью будет попробовать именно его в первую очередь.\n",
    "\n",
    "1. Считайте таблицу с признаками из файла features.csv с помощью кода, приведенного выше. Удалите признаки, связанные с итогами матча (они помечены в описании данных как отсутствующие в тестовой выборке).\n",
    "2. Проверьте выборку на наличие пропусков с помощью функции count(), которая для каждого столбца показывает число заполненных значений. Много ли пропусков в данных? Запишите названия признаков, имеющих пропуски, и попробуйте для любых двух из них дать обоснование, почему их значения могут быть пропущены.\n",
    "3. Замените пропуски на нули с помощью функции fillna(). На самом деле этот способ является предпочтительным для логистической регрессии, поскольку он позволит пропущенному значению не вносить никакого вклада в предсказание. Для деревьев часто лучшим вариантом оказывается замена пропуска на очень большое или очень маленькое значение — в этом случае при построении разбиения вершины можно будет отправить объекты с пропусками в отдельную ветвь дерева. Также есть и другие подходы — например, замена пропуска на среднее значение признака. Мы не требуем этого в задании, но при желании попробуйте разные подходы к обработке пропусков и сравните их между собой.\n",
    "3. Какой столбец содержит целевую переменную? Запишите его название.\n",
    "4. Забудем, что в выборке есть категориальные признаки, и попробуем обучить градиентный бустинг над деревьями на имеющейся матрице \"объекты-признаки\". Зафиксируйте генератор разбиений для кросс-валидации по 5 блокам (KFold), не забудьте перемешать при этом выборку (shuffle=True), поскольку данные в таблице отсортированы по времени, и без перемешивания можно столкнуться с нежелательными эффектами при оценивании качества. Оцените качество градиентного бустинга (GradientBoostingClassifier) с помощью данной кросс-валидации, попробуйте при этом разное количество деревьев (как минимум протестируйте следующие значения для количества деревьев: 10, 20, 30). Долго ли настраивались классификаторы? Достигнут ли оптимум на испытанных значениях параметра n_estimators, или же качество, скорее всего, продолжит расти при дальнейшем его увеличении?\n",
    "\n",
    "##### Что указать в отчете\n",
    "В отчете по данному этапу вы должны ответить на следующие вопросы:\n",
    "1. Какие признаки имеют пропуски среди своих значений? Что могут означать пропуски в этих признаках (ответьте на этот вопрос для двух любых признаков)?\n",
    "2. Как называется столбец, содержащий целевую переменную?\n",
    "3. Как долго проводилась кросс-валидация для градиентного бустинга с 30 деревьями? Инструкцию по измерению времени можно найти ниже по тексту. Какое качество при этом получилось? Напомним, что в данном задании мы используем метрику качества AUC-ROC.\n",
    "4. Имеет ли смысл использовать больше 30 деревьев в градиентном бустинге? Что бы вы предложили делать, чтобы ускорить его обучение при увеличении количества деревьев?\n",
    "\n",
    "\n",
    "##### Рекомендации и советы\n",
    "\n",
    "- Если все работает очень медлено:\n",
    "   - Используйте для обучения и кросс-валидации не всю выборку, а некоторое ее подмножество — например, половину объектов. Подмножество лучше всего брать случайным, а не формировать его из первых m объектов.\n",
    "   - Попробуйте упростить модель — например, уменьшить глубину деревьев в градиентом бустинге (max_depth).\n",
    "   \n",
    "##### Измерение времени работы кода\n",
    "```python\n",
    "import time\n",
    "import datetime\n",
    "\n",
    "start_time = datetime.datetime.now()\n",
    "\n",
    "time.sleep(3) # вместо этой строчки разместить замеряемый код\n",
    "\n",
    "print 'Time elapsed:', datetime.datetime.now() - start_time\n",
    "```"
   ]
  },
  {
   "cell_type": "code",
   "execution_count": 6,
   "metadata": {},
   "outputs": [
    {
     "data": {
      "text/html": [
       "<div>\n",
       "<style scoped>\n",
       "    .dataframe tbody tr th:only-of-type {\n",
       "        vertical-align: middle;\n",
       "    }\n",
       "\n",
       "    .dataframe tbody tr th {\n",
       "        vertical-align: top;\n",
       "    }\n",
       "\n",
       "    .dataframe thead th {\n",
       "        text-align: right;\n",
       "    }\n",
       "</style>\n",
       "<table border=\"1\" class=\"dataframe\">\n",
       "  <thead>\n",
       "    <tr style=\"text-align: right;\">\n",
       "      <th></th>\n",
       "      <th>start_time</th>\n",
       "      <th>lobby_type</th>\n",
       "      <th>r1_hero</th>\n",
       "      <th>r1_level</th>\n",
       "      <th>r1_xp</th>\n",
       "      <th>r1_gold</th>\n",
       "      <th>r1_lh</th>\n",
       "      <th>r1_kills</th>\n",
       "      <th>r1_deaths</th>\n",
       "      <th>r1_items</th>\n",
       "      <th>...</th>\n",
       "      <th>dire_boots_count</th>\n",
       "      <th>dire_ward_observer_count</th>\n",
       "      <th>dire_ward_sentry_count</th>\n",
       "      <th>dire_first_ward_time</th>\n",
       "      <th>duration</th>\n",
       "      <th>radiant_win</th>\n",
       "      <th>tower_status_radiant</th>\n",
       "      <th>tower_status_dire</th>\n",
       "      <th>barracks_status_radiant</th>\n",
       "      <th>barracks_status_dire</th>\n",
       "    </tr>\n",
       "    <tr>\n",
       "      <th>match_id</th>\n",
       "      <th></th>\n",
       "      <th></th>\n",
       "      <th></th>\n",
       "      <th></th>\n",
       "      <th></th>\n",
       "      <th></th>\n",
       "      <th></th>\n",
       "      <th></th>\n",
       "      <th></th>\n",
       "      <th></th>\n",
       "      <th></th>\n",
       "      <th></th>\n",
       "      <th></th>\n",
       "      <th></th>\n",
       "      <th></th>\n",
       "      <th></th>\n",
       "      <th></th>\n",
       "      <th></th>\n",
       "      <th></th>\n",
       "      <th></th>\n",
       "      <th></th>\n",
       "    </tr>\n",
       "  </thead>\n",
       "  <tbody>\n",
       "    <tr>\n",
       "      <th>0</th>\n",
       "      <td>1430198770</td>\n",
       "      <td>7</td>\n",
       "      <td>11</td>\n",
       "      <td>5</td>\n",
       "      <td>2098</td>\n",
       "      <td>1489</td>\n",
       "      <td>20</td>\n",
       "      <td>0</td>\n",
       "      <td>0</td>\n",
       "      <td>7</td>\n",
       "      <td>...</td>\n",
       "      <td>4</td>\n",
       "      <td>2</td>\n",
       "      <td>2</td>\n",
       "      <td>-52.0</td>\n",
       "      <td>2874</td>\n",
       "      <td>1</td>\n",
       "      <td>1796</td>\n",
       "      <td>0</td>\n",
       "      <td>51</td>\n",
       "      <td>0</td>\n",
       "    </tr>\n",
       "    <tr>\n",
       "      <th>1</th>\n",
       "      <td>1430220345</td>\n",
       "      <td>0</td>\n",
       "      <td>42</td>\n",
       "      <td>4</td>\n",
       "      <td>1188</td>\n",
       "      <td>1033</td>\n",
       "      <td>9</td>\n",
       "      <td>0</td>\n",
       "      <td>1</td>\n",
       "      <td>12</td>\n",
       "      <td>...</td>\n",
       "      <td>4</td>\n",
       "      <td>3</td>\n",
       "      <td>1</td>\n",
       "      <td>-5.0</td>\n",
       "      <td>2463</td>\n",
       "      <td>1</td>\n",
       "      <td>1974</td>\n",
       "      <td>0</td>\n",
       "      <td>63</td>\n",
       "      <td>1</td>\n",
       "    </tr>\n",
       "    <tr>\n",
       "      <th>2</th>\n",
       "      <td>1430227081</td>\n",
       "      <td>7</td>\n",
       "      <td>33</td>\n",
       "      <td>4</td>\n",
       "      <td>1319</td>\n",
       "      <td>1270</td>\n",
       "      <td>22</td>\n",
       "      <td>0</td>\n",
       "      <td>0</td>\n",
       "      <td>12</td>\n",
       "      <td>...</td>\n",
       "      <td>4</td>\n",
       "      <td>3</td>\n",
       "      <td>1</td>\n",
       "      <td>13.0</td>\n",
       "      <td>2130</td>\n",
       "      <td>0</td>\n",
       "      <td>0</td>\n",
       "      <td>1830</td>\n",
       "      <td>0</td>\n",
       "      <td>63</td>\n",
       "    </tr>\n",
       "    <tr>\n",
       "      <th>3</th>\n",
       "      <td>1430263531</td>\n",
       "      <td>1</td>\n",
       "      <td>29</td>\n",
       "      <td>4</td>\n",
       "      <td>1779</td>\n",
       "      <td>1056</td>\n",
       "      <td>14</td>\n",
       "      <td>0</td>\n",
       "      <td>0</td>\n",
       "      <td>5</td>\n",
       "      <td>...</td>\n",
       "      <td>4</td>\n",
       "      <td>2</td>\n",
       "      <td>0</td>\n",
       "      <td>27.0</td>\n",
       "      <td>1459</td>\n",
       "      <td>0</td>\n",
       "      <td>1920</td>\n",
       "      <td>2047</td>\n",
       "      <td>50</td>\n",
       "      <td>63</td>\n",
       "    </tr>\n",
       "    <tr>\n",
       "      <th>4</th>\n",
       "      <td>1430282290</td>\n",
       "      <td>7</td>\n",
       "      <td>13</td>\n",
       "      <td>4</td>\n",
       "      <td>1431</td>\n",
       "      <td>1090</td>\n",
       "      <td>8</td>\n",
       "      <td>1</td>\n",
       "      <td>0</td>\n",
       "      <td>8</td>\n",
       "      <td>...</td>\n",
       "      <td>3</td>\n",
       "      <td>3</td>\n",
       "      <td>0</td>\n",
       "      <td>-16.0</td>\n",
       "      <td>2449</td>\n",
       "      <td>0</td>\n",
       "      <td>4</td>\n",
       "      <td>1974</td>\n",
       "      <td>3</td>\n",
       "      <td>63</td>\n",
       "    </tr>\n",
       "  </tbody>\n",
       "</table>\n",
       "<p>5 rows × 108 columns</p>\n",
       "</div>"
      ],
      "text/plain": [
       "          start_time  lobby_type  r1_hero  r1_level  r1_xp  r1_gold  r1_lh  \\\n",
       "match_id                                                                     \n",
       "0         1430198770           7       11         5   2098     1489     20   \n",
       "1         1430220345           0       42         4   1188     1033      9   \n",
       "2         1430227081           7       33         4   1319     1270     22   \n",
       "3         1430263531           1       29         4   1779     1056     14   \n",
       "4         1430282290           7       13         4   1431     1090      8   \n",
       "\n",
       "          r1_kills  r1_deaths  r1_items  ...  dire_boots_count  \\\n",
       "match_id                                 ...                     \n",
       "0                0          0         7  ...                 4   \n",
       "1                0          1        12  ...                 4   \n",
       "2                0          0        12  ...                 4   \n",
       "3                0          0         5  ...                 4   \n",
       "4                1          0         8  ...                 3   \n",
       "\n",
       "          dire_ward_observer_count  dire_ward_sentry_count  \\\n",
       "match_id                                                     \n",
       "0                                2                       2   \n",
       "1                                3                       1   \n",
       "2                                3                       1   \n",
       "3                                2                       0   \n",
       "4                                3                       0   \n",
       "\n",
       "          dire_first_ward_time  duration  radiant_win  tower_status_radiant  \\\n",
       "match_id                                                                      \n",
       "0                        -52.0      2874            1                  1796   \n",
       "1                         -5.0      2463            1                  1974   \n",
       "2                         13.0      2130            0                     0   \n",
       "3                         27.0      1459            0                  1920   \n",
       "4                        -16.0      2449            0                     4   \n",
       "\n",
       "          tower_status_dire  barracks_status_radiant  barracks_status_dire  \n",
       "match_id                                                                    \n",
       "0                         0                       51                     0  \n",
       "1                         0                       63                     1  \n",
       "2                      1830                        0                    63  \n",
       "3                      2047                       50                    63  \n",
       "4                      1974                        3                    63  \n",
       "\n",
       "[5 rows x 108 columns]"
      ]
     },
     "execution_count": 6,
     "metadata": {},
     "output_type": "execute_result"
    }
   ],
   "source": [
    "import pandas as pd\n",
    "features = pd.read_csv('./features.csv', index_col='match_id')\n",
    "\n",
    "features.head()"
   ]
  },
  {
   "cell_type": "code",
   "execution_count": 20,
   "metadata": {},
   "outputs": [],
   "source": [
    "X = features.drop(['duration', 'radiant_win', \\\n",
    "                   'tower_status_radiant', \\\n",
    "                   'tower_status_dire', \\\n",
    "                   'barracks_status_radiant', \\\n",
    "                   'barracks_status_dire'], axis=1)\n",
    "\n",
    "X.fillna(-999999, axis=1, inplace=True)\n",
    "X = X.values\n",
    "\n",
    "Y = features['radiant_win'].values"
   ]
  },
  {
   "cell_type": "code",
   "execution_count": 80,
   "metadata": {},
   "outputs": [],
   "source": [
    "from sklearn.ensemble import GradientBoostingClassifier\n",
    "from sklearn.model_selection import KFold\n",
    "from sklearn.model_selection import cross_val_score\n",
    "import matplotlib.pyplot as plt\n",
    "import numpy as np\n",
    "from sklearn.model_selection import train_test_split\n",
    "\n",
    "import time\n",
    "import datetime\n",
    "\n",
    "SEED = 241"
   ]
  },
  {
   "cell_type": "code",
   "execution_count": 81,
   "metadata": {},
   "outputs": [],
   "source": [
    "def train_validate(n_estimators=[10, 20, 30]):\n",
    "    kf = KFold(n_splits=5, shuffle=True, random_state=SEED)\n",
    "    acc = []\n",
    "    for k in n_estimators:\n",
    "        clf = GradientBoostingClassifier(random_state=SEED, n_estimators=k, verbose=False)\n",
    "\n",
    "        start_time = datetime.datetime.now()\n",
    "\n",
    "        score = cross_val_score(clf, X, Y, scoring=\"roc_auc\", cv=kf, n_jobs=-1)\n",
    "\n",
    "        print('Time elapsed:', datetime.datetime.now() - start_time)\n",
    "\n",
    "        score = np.mean(score)\n",
    "        acc.append(score)\n",
    "    return acc"
   ]
  },
  {
   "cell_type": "code",
   "execution_count": 82,
   "metadata": {},
   "outputs": [],
   "source": [
    "features = pd.read_csv('./features.csv', index_col='match_id')\n",
    "X = features.drop(['duration', 'radiant_win', \\\n",
    "                   'tower_status_radiant', \\\n",
    "                   'tower_status_dire', \\\n",
    "                   'barracks_status_radiant', \\\n",
    "                   'barracks_status_dire'], axis=1)\n",
    "\n",
    "X.fillna(-999999, axis=1, inplace=True)\n",
    "X = X.values\n",
    "\n",
    "\n",
    "Y = features['radiant_win'].values"
   ]
  },
  {
   "cell_type": "code",
   "execution_count": 84,
   "metadata": {},
   "outputs": [
    {
     "name": "stdout",
     "output_type": "stream",
     "text": [
      "Time elapsed: 0:00:12.631619\n",
      "Time elapsed: 0:00:24.494974\n",
      "Time elapsed: 0:00:36.523846\n",
      "Time elapsed: 0:00:48.781023\n",
      "Time elapsed: 0:01:01.109708\n",
      "Time elapsed: 0:01:13.915303\n"
     ]
    },
    {
     "data": {
      "text/plain": [
       "[<matplotlib.lines.Line2D at 0x7f14a4afd3c8>]"
      ]
     },
     "execution_count": 84,
     "metadata": {},
     "output_type": "execute_result"
    },
    {
     "data": {
      "image/png": "[encoded data removed]",
      "text/plain": [
       "<Figure size 432x288 with 1 Axes>"
      ]
     },
     "metadata": {
      "needs_background": "light"
     },
     "output_type": "display_data"
    }
   ],
   "source": [
    "acc = train_validate(list(range(10, 70, 10)))\n",
    "plt.plot(acc)"
   ]
  },
  {
   "cell_type": "code",
   "execution_count": 85,
   "metadata": {},
   "outputs": [
    {
     "data": {
      "text/plain": [
       "[0.6643877206345741,\n",
       " 0.6828535735340823,\n",
       " 0.6894805902164476,\n",
       " 0.6941548666055508,\n",
       " 0.697416018942387,\n",
       " 0.6999936313380642]"
      ]
     },
     "execution_count": 85,
     "metadata": {},
     "output_type": "execute_result"
    }
   ],
   "source": [
    "acc"
   ]
  },
  {
   "cell_type": "markdown",
   "metadata": {},
   "source": [
    "# Отчёт"
   ]
  },
  {
   "cell_type": "markdown",
   "metadata": {},
   "source": [
    "### Какие признаки имеют пропуски среди своих значений? Что могут означать пропуски в этих признаках (ответьте на этот вопрос для двух любых признаков)?\n"
   ]
  },
  {
   "cell_type": "markdown",
   "metadata": {},
   "source": [
    "- `radiant_bottle_time`: время первого приобретения командой предмета \"bottle\"\n",
    "- `radiant_flying_courier_time`: время приобретения предмета \"flying_courier\" \n",
    "\n",
    "Пропуск в этих признаках может значить, что команда еще не успела за 5 мин приобрести предметы \"bottle\", \"flying_courier\""
   ]
  },
  {
   "cell_type": "markdown",
   "metadata": {},
   "source": [
    "### Как называется столбец, содержащий целевую переменную?\n"
   ]
  },
  {
   "cell_type": "markdown",
   "metadata": {},
   "source": [
    "radiant_win"
   ]
  },
  {
   "cell_type": "markdown",
   "metadata": {},
   "source": [
    "### Как долго проводилась кросс-валидация для градиентного бустинга с 30 деревьями? Инструкцию по измерению времени можно найти ниже по тексту. Какое качество при этом получилось? Напомним, что в данном задании мы используем метрику качества AUC-ROC.\n",
    "    \n",
    "40 c, AUC-ROC = 0.69"
   ]
  },
  {
   "cell_type": "markdown",
   "metadata": {},
   "source": [
    "### Имеет ли смысл использовать больше 30 деревьев в градиентном бустинге? Что бы вы предложили делать, чтобы ускорить его обучение при увеличении количества деревьев?"
   ]
  },
  {
   "cell_type": "markdown",
   "metadata": {},
   "source": [
    "Да, имеет. При увеличении кол-ва деревьев в композиции качество алгоритма на валидации увеличивается\n",
    "Идеи для ускорения обучения:\n",
    "- n_jobs=-1 в cross_val_score. Дало ускорение ~ 2 раза\n",
    "\n"
   ]
  },
  {
   "cell_type": "markdown",
   "metadata": {},
   "source": [
    "### Подход 2: логистическая регрессия\n",
    "\n",
    "Линейные методы работают гораздо быстрее композиций деревьев, поэтому кажется разумным воспользоваться именно ими для ускорения анализа данных. Одним из наиболее распространенных методов для классификации является логистическая регрессия.\n",
    "\n",
    "**Важно:** не забывайте, что линейные алгоритмы чувствительны к масштабу признаков! Может пригодиться sklearn.preprocessing.StandartScaler.\n",
    "\n",
    "1. Оцените качество логистической регрессии (sklearn.linear_model.LogisticRegression с L2-регуляризацией) с помощью кросс-валидации по той же схеме, которая использовалась для градиентного бустинга. Подберите при этом лучший параметр регуляризации (C). Какое наилучшее качество у вас получилось? Как оно соотносится с качеством градиентного бустинга? Чем вы можете объяснить эту разницу? Быстрее ли работает логистическая регрессия по сравнению с градиентным бустингом?\n",
    "2. Среди признаков в выборке есть категориальные, которые мы использовали как числовые, что вряд ли является хорошей идеей. Категориальных признаков в этой задаче одиннадцать: lobby_type и r1_hero, r2_hero, ..., r5_hero, d1_hero, d2_hero, ..., d5_hero. Уберите их из выборки, и проведите кросс-валидацию для логистической регрессии на новой выборке с подбором лучшего параметра регуляризации. Изменилось ли качество? Чем вы можете это объяснить?\n",
    "3. На предыдущем шаге мы исключили из выборки признаки rM_hero и dM_hero, которые показывают, какие именно герои играли за каждую команду. Это важные признаки — герои имеют разные характеристики, и некоторые из них выигрывают чаще, чем другие. Выясните из данных, сколько различных идентификаторов героев существует в данной игре (вам может пригодиться фукнция unique или value_counts).\n",
    "4. Воспользуемся подходом \"мешок слов\" для кодирования информации о героях. Пусть всего в игре имеет N различных героев. Сформируем N признаков, при этом i-й будет равен нулю, если i-й герой не участвовал в матче; единице, если i-й герой играл за команду Radiant; минус единице, если i-й герой играл за команду Dire. Ниже вы можете найти код, который выполняет данной преобразование. Добавьте полученные признаки к числовым, которые вы использовали во втором пункте данного этапа.\n",
    "5. Проведите кросс-валидацию для логистической регрессии на новой выборке с подбором лучшего параметра регуляризации. Какое получилось качество? Улучшилось ли оно? Чем вы можете это объяснить?\n",
    "6. Постройте предсказания вероятностей победы команды Radiant для тестовой выборки с помощью лучшей из изученных моделей (лучшей с точки зрения AUC-ROC на кросс-валидации). Убедитесь, что предсказанные вероятности адекватные — находятся на отрезке [0, 1], не совпадают между собой (т.е. что модель не получилась константной).\n",
    "\n",
    "##### Что указать в отчете\n",
    "В отчете по данному этапу вы должны ответить на следующие вопросы:\n",
    "1. Какое качество получилось у логистической регрессии над всеми исходными признаками? Как оно соотносится с качеством градиентного бустинга? Чем вы можете объяснить эту разницу? Быстрее ли работает логистическая регрессия по сравнению с градиентным бустингом?\n",
    "2. Как влияет на качество логистической регрессии удаление категориальных признаков (укажите новое значение метрики качества)? Чем вы можете объяснить это изменение?\n",
    "3. Сколько различных идентификаторов героев существует в данной игре?\n",
    "4. Какое получилось качество при добавлении \"мешка слов\" по героям? Улучшилось ли оно по сравнению с предыдущим вариантом? Чем вы можете это объяснить?\n",
    "5. Какое минимальное и максимальное значение прогноза на тестовой выборке получилось у лучшего из алгоритмов?\n",
    "\n",
    "\n",
    "##### Код для формирования \"мешка слов\" по героям\n",
    "```python\n",
    "# N — количество различных героев в выборке\n",
    "X_pick = np.zeros((data.shape[0], N))\n",
    "\n",
    "for i, match_id in enumerate(data.index):\n",
    "    for p in xrange(5):\n",
    "        X_pick[i, data.ix[match_id, 'r%d_hero' % (p+1)]-1] = 1\n",
    "        X_pick[i, data.ix[match_id, 'd%d_hero' % (p+1)]-1] = -1\n",
    "```"
   ]
  },
  {
   "cell_type": "code",
   "execution_count": 33,
   "metadata": {},
   "outputs": [],
   "source": [
    "from sklearn.preprocessing import StandardScaler\n",
    "from sklearn.linear_model import LogisticRegression\n",
    "from sklearn.feature_extraction import DictVectorizer"
   ]
  },
  {
   "cell_type": "code",
   "execution_count": 167,
   "metadata": {},
   "outputs": [],
   "source": [
    "def train_validate(X, Y, param=[1e-2, 1, 1e4]):\n",
    "    kf = KFold(n_splits=5, shuffle=True, random_state=SEED)\n",
    "    acc = []\n",
    "    for k in param:\n",
    "        clf = LogisticRegression(penalty='l2', random_state=SEED, C=k, verbose=False, max_iter=1000)\n",
    "\n",
    "        start_time = datetime.datetime.now()\n",
    "\n",
    "        score = cross_val_score(clf, X, Y, scoring=\"roc_auc\", cv=kf, n_jobs=-1)\n",
    "\n",
    "        print('Time elapsed:', datetime.datetime.now() - start_time)\n",
    "\n",
    "        score = np.mean(score)\n",
    "        acc.append(score)\n",
    "    return acc"
   ]
  },
  {
   "cell_type": "code",
   "execution_count": 100,
   "metadata": {},
   "outputs": [],
   "source": [
    "features = pd.read_csv('./features.csv', index_col='match_id')\n",
    "X = features.drop(['duration', 'radiant_win', \\\n",
    "                   'tower_status_radiant', \\\n",
    "                   'tower_status_dire', \\\n",
    "                   'barracks_status_radiant', \\\n",
    "                   'barracks_status_dire'], axis=1)"
   ]
  },
  {
   "cell_type": "code",
   "execution_count": null,
   "metadata": {},
   "outputs": [],
   "source": [
    "# Заполняем медианой пропуски\n",
    "t = X.count()\n",
    "columns_wtih_na = list(t[t < X.shape[0]].index)\n",
    "for col in columns_wtih_na:\n",
    "    X[col] = X[col].fillna(X[col].median())\n",
    "    \n",
    "X = X.values\n",
    "scaler = StandardScaler()\n",
    "X = scaler.fit_transform(X)\n",
    "\n",
    "\n",
    "Y = features['radiant_win'].values"
   ]
  },
  {
   "cell_type": "code",
   "execution_count": 99,
   "metadata": {},
   "outputs": [
    {
     "name": "stdout",
     "output_type": "stream",
     "text": [
      "Time elapsed: 0:00:01.811003\n",
      "Time elapsed: 0:00:01.722106\n",
      "Time elapsed: 0:00:01.784430\n",
      "Time elapsed: 0:00:01.593974\n",
      "Time elapsed: 0:00:01.781528\n",
      "Time elapsed: 0:00:01.772290\n",
      "Time elapsed: 0:00:01.664792\n",
      "Time elapsed: 0:00:01.757351\n",
      "Time elapsed: 0:00:01.735179\n",
      "Time elapsed: 0:00:01.744678\n"
     ]
    },
    {
     "data": {
      "text/plain": [
       "[<matplotlib.lines.Line2D at 0x7f14a4a49f60>]"
      ]
     },
     "execution_count": 99,
     "metadata": {},
     "output_type": "execute_result"
    },
    {
     "data": {
      "image/png": "[encoded data removed]",
      "text/plain": [
       "<Figure size 432x288 with 1 Axes>"
      ]
     },
     "metadata": {
      "needs_background": "light"
     },
     "output_type": "display_data"
    }
   ],
   "source": [
    "C = np.logspace(-3, 3, num=10)\n",
    "acc = train_validate(X, Y, C)\n",
    "plt.plot(acc)"
   ]
  },
  {
   "cell_type": "code",
   "execution_count": 92,
   "metadata": {},
   "outputs": [
    {
     "data": {
      "text/plain": [
       "[0.7165935780416867,\n",
       " 0.7167648984336329,\n",
       " 0.7167370563520544,\n",
       " 0.7167261854086957,\n",
       " 0.7167232447744165,\n",
       " 0.7167221644759212,\n",
       " 0.7167219866261678,\n",
       " 0.7167219675931635,\n",
       " 0.7167219739326406,\n",
       " 0.7167219633402004]"
      ]
     },
     "execution_count": 92,
     "metadata": {},
     "output_type": "execute_result"
    }
   ],
   "source": [
    "acc"
   ]
  },
  {
   "cell_type": "code",
   "execution_count": 67,
   "metadata": {},
   "outputs": [
    {
     "data": {
      "text/plain": [
       "(0.004641588833612777, 0.7167648984336329)"
      ]
     },
     "execution_count": 67,
     "metadata": {},
     "output_type": "execute_result"
    }
   ],
   "source": [
    "C_best = C[np.argmax(acc)]\n",
    "C_best, acc[np.argmax(acc)]"
   ]
  },
  {
   "cell_type": "markdown",
   "metadata": {},
   "source": [
    "#   удалим кат. признаки и проведем кросс валидацию"
   ]
  },
  {
   "cell_type": "code",
   "execution_count": 72,
   "metadata": {},
   "outputs": [],
   "source": [
    "features = pd.read_csv('./features.csv', index_col='match_id')\n",
    "X = features.drop(['duration', 'radiant_win', \\\n",
    "                   'tower_status_radiant', \\\n",
    "                   'tower_status_dire', \\\n",
    "                   'barracks_status_radiant', \\\n",
    "                   'barracks_status_dire'], axis=1)\n",
    "\n",
    "to_delete = ['lobby_type', 'r1_hero', 'r2_hero', 'r3_hero', 'r4_hero', 'r5_hero', \\\n",
    "             'd1_hero', 'd2_hero', 'd3_hero', 'd4_hero', 'd5_hero']\n",
    "X = X.drop(to_delete, axis=1)\n",
    "\n",
    "\n",
    "# Заполняем медианой пропуски\n",
    "t = X.count()\n",
    "columns_wtih_na = list(t[t < X.shape[0]].index)\n",
    "for col in columns_wtih_na:\n",
    "    X[col] = X[col].fillna(X[col].median())\n",
    "    \n",
    "X = X.values\n",
    "scaler = StandardScaler()\n",
    "X = scaler.fit_transform(X)\n",
    "\n",
    "\n",
    "Y = features['radiant_win'].values"
   ]
  },
  {
   "cell_type": "code",
   "execution_count": 77,
   "metadata": {},
   "outputs": [
    {
     "name": "stdout",
     "output_type": "stream",
     "text": [
      "Time elapsed: 0:00:01.000527\n",
      "Time elapsed: 0:00:01.509093\n",
      "Time elapsed: 0:00:01.529258\n",
      "Time elapsed: 0:00:01.727941\n",
      "Time elapsed: 0:00:01.577421\n",
      "Time elapsed: 0:00:01.585005\n",
      "Time elapsed: 0:00:01.529197\n",
      "Time elapsed: 0:00:01.569545\n",
      "Time elapsed: 0:00:01.605586\n",
      "Time elapsed: 0:00:01.570272\n"
     ]
    },
    {
     "data": {
      "text/plain": [
       "[<matplotlib.lines.Line2D at 0x7f14a4b8f128>]"
      ]
     },
     "execution_count": 77,
     "metadata": {},
     "output_type": "execute_result"
    },
    {
     "data": {
      "image/png": "[encoded data removed]",
      "text/plain": [
       "<Figure size 432x288 with 1 Axes>"
      ]
     },
     "metadata": {
      "needs_background": "light"
     },
     "output_type": "display_data"
    }
   ],
   "source": [
    "C = np.logspace(-3, 3, num=10)\n",
    "acc = train_validate(X, Y, C)\n",
    "plt.plot(acc)"
   ]
  },
  {
   "cell_type": "code",
   "execution_count": 78,
   "metadata": {},
   "outputs": [
    {
     "data": {
      "text/plain": [
       "[0.716644250194048,\n",
       " 0.7168186774884939,\n",
       " 0.7167986236908759,\n",
       " 0.7167887439585334,\n",
       " 0.7167859263074109,\n",
       " 0.7167851065690701,\n",
       " 0.716785362841492,\n",
       " 0.716785462417149,\n",
       " 0.7167854370096576,\n",
       " 0.7167854327574561]"
      ]
     },
     "execution_count": 78,
     "metadata": {},
     "output_type": "execute_result"
    }
   ],
   "source": [
    "acc"
   ]
  },
  {
   "cell_type": "code",
   "execution_count": 79,
   "metadata": {},
   "outputs": [
    {
     "data": {
      "text/plain": [
       "(0.004641588833612777, 0.7168186774884939)"
      ]
     },
     "execution_count": 79,
     "metadata": {},
     "output_type": "execute_result"
    }
   ],
   "source": [
    "C_best = C[np.argmax(acc)]\n",
    "C_best, acc[np.argmax(acc)]"
   ]
  },
  {
   "cell_type": "markdown",
   "metadata": {},
   "source": [
    "# One-hot кат. признаков"
   ]
  },
  {
   "cell_type": "code",
   "execution_count": 151,
   "metadata": {},
   "outputs": [],
   "source": [
    "features = pd.read_csv('./features.csv', index_col='match_id')\n",
    "X = features.drop(['duration', 'radiant_win', \\\n",
    "                   'tower_status_radiant', \\\n",
    "                   'tower_status_dire', \\\n",
    "                   'barracks_status_radiant', \\\n",
    "                   'barracks_status_dire'], axis=1)\n",
    "\n"
   ]
  },
  {
   "cell_type": "code",
   "execution_count": 152,
   "metadata": {},
   "outputs": [
    {
     "data": {
      "text/plain": [
       "(97230, 102)"
      ]
     },
     "execution_count": 152,
     "metadata": {},
     "output_type": "execute_result"
    }
   ],
   "source": [
    "X.shape"
   ]
  },
  {
   "cell_type": "code",
   "execution_count": 153,
   "metadata": {
    "scrolled": false
   },
   "outputs": [
    {
     "name": "stdout",
     "output_type": "stream",
     "text": [
      "[  1.   2.   3.   4.   5.   6.   7.   8.   9.  10.  11.  12.  13.  14.\n",
      "  15.  16.  17.  18.  19.  20.  21.  22.  23.  25.  26.  27.  28.  29.\n",
      "  30.  31.  32.  33.  34.  35.  36.  37.  38.  39.  40.  41.  42.  43.\n",
      "  44.  45.  46.  47.  48.  49.  50.  51.  52.  53.  54.  55.  56.  57.\n",
      "  58.  59.  60.  61.  62.  63.  64.  65.  66.  67.  68.  69.  70.  71.\n",
      "  72.  73.  74.  75.  76.  77.  78.  79.  80.  81.  82.  83.  84.  85.\n",
      "  86.  87.  88.  89.  90.  91.  92.  93.  94.  95.  96.  97.  98.  99.\n",
      " 100. 101. 102. 103. 104. 105. 106. 109. 110. 112.]\n"
     ]
    }
   ],
   "source": [
    "ar = np.array([])\n",
    "\n",
    "for p in range(1, 6):\n",
    "    ar = np.hstack([ar, X[f'r{p}_hero'].values, X[f'd{p}_hero'].values])\n",
    "print(np.unique(ar))\n",
    "N = len(np.unique(ar)) # кол-во уник. героев"
   ]
  },
  {
   "cell_type": "code",
   "execution_count": 154,
   "metadata": {},
   "outputs": [
    {
     "data": {
      "text/plain": [
       "108"
      ]
     },
     "execution_count": 154,
     "metadata": {},
     "output_type": "execute_result"
    }
   ],
   "source": [
    "N"
   ]
  },
  {
   "cell_type": "code",
   "execution_count": 155,
   "metadata": {},
   "outputs": [
    {
     "data": {
      "text/plain": [
       "array([  0,   1,   2,   3,   4,   5,   6,   7,   8,   9,  10,  11,  12,\n",
       "        13,  14,  15,  16,  17,  18,  19,  20,  21,  22,  23,  24,  25,\n",
       "        26,  27,  28,  29,  30,  31,  32,  33,  34,  35,  36,  37,  38,\n",
       "        39,  40,  41,  42,  43,  44,  45,  46,  47,  48,  49,  50,  51,\n",
       "        52,  53,  54,  55,  56,  57,  58,  59,  60,  61,  62,  63,  64,\n",
       "        65,  66,  67,  68,  69,  70,  71,  72,  73,  74,  75,  76,  77,\n",
       "        78,  79,  80,  81,  82,  83,  84,  85,  86,  87,  88,  89,  90,\n",
       "        91,  92,  93,  94,  95,  96,  97,  98,  99, 100, 101, 102, 103,\n",
       "       104, 105, 106, 107])"
      ]
     },
     "execution_count": 155,
     "metadata": {},
     "output_type": "execute_result"
    }
   ],
   "source": [
    "from sklearn.preprocessing import LabelEncoder\n",
    "le = LabelEncoder()\n",
    "le.fit(np.unique(ar))\n",
    "le.transform(np.unique(ar))"
   ]
  },
  {
   "cell_type": "code",
   "execution_count": 156,
   "metadata": {},
   "outputs": [],
   "source": [
    "# N — количество различных героев в выборке\n",
    "X_pick = np.zeros((X.shape[0], N))\n",
    "\n",
    "for i, match_id in enumerate(X.index):\n",
    "    for p in range(5):\n",
    "        col_idx = le.transform([X.loc[match_id, 'r%d_hero' % (p+1)]])\n",
    "        X_pick[i, col_idx[0]] = 1\n",
    "        \n",
    "        col_idx = le.transform([X.loc[match_id, 'd%d_hero' % (p+1)]])\n",
    "        X_pick[i, col_idx[0]] = -1"
   ]
  },
  {
   "cell_type": "code",
   "execution_count": 157,
   "metadata": {},
   "outputs": [
    {
     "data": {
      "text/plain": [
       "(97230, 108)"
      ]
     },
     "execution_count": 157,
     "metadata": {},
     "output_type": "execute_result"
    }
   ],
   "source": [
    "X_pick.shape"
   ]
  },
  {
   "cell_type": "code",
   "execution_count": 158,
   "metadata": {},
   "outputs": [],
   "source": [
    "to_delete = ['lobby_type', 'r1_hero', 'r2_hero', 'r3_hero', 'r4_hero', 'r5_hero', \\\n",
    "             'd1_hero', 'd2_hero', 'd3_hero', 'd4_hero', 'd5_hero']\n",
    "X = X.drop(to_delete, axis=1)\n",
    "\n",
    "\n",
    "# Заполняем медианой пропуски\n",
    "t = X.count()\n",
    "columns_wtih_na = list(t[t < X.shape[0]].index)\n",
    "for col in columns_wtih_na:\n",
    "    X[col] = X[col].fillna(X[col].median())\n",
    "    \n",
    "X = X.values\n",
    "scaler = StandardScaler()\n",
    "X = scaler.fit_transform(X)\n",
    "\n",
    "\n",
    "Y = features['radiant_win'].values"
   ]
  },
  {
   "cell_type": "code",
   "execution_count": 159,
   "metadata": {},
   "outputs": [],
   "source": [
    "# добавляю кат. признаки о героях\n",
    "X = np.hstack([X, X_pick])"
   ]
  },
  {
   "cell_type": "code",
   "execution_count": 160,
   "metadata": {},
   "outputs": [
    {
     "data": {
      "text/plain": [
       "(97230, 199)"
      ]
     },
     "execution_count": 160,
     "metadata": {},
     "output_type": "execute_result"
    }
   ],
   "source": [
    "X.shape"
   ]
  },
  {
   "cell_type": "code",
   "execution_count": 168,
   "metadata": {},
   "outputs": [
    {
     "name": "stdout",
     "output_type": "stream",
     "text": [
      "Time elapsed: 0:00:02.714174\n",
      "Time elapsed: 0:00:03.585001\n",
      "Time elapsed: 0:00:04.749967\n",
      "Time elapsed: 0:00:05.933072\n",
      "Time elapsed: 0:00:06.441323\n",
      "Time elapsed: 0:00:06.429203\n",
      "Time elapsed: 0:00:06.277883\n",
      "Time elapsed: 0:00:06.916813\n",
      "Time elapsed: 0:00:06.280410\n",
      "Time elapsed: 0:00:06.391054\n"
     ]
    },
    {
     "data": {
      "text/plain": [
       "[<matplotlib.lines.Line2D at 0x7f149ea4b908>]"
      ]
     },
     "execution_count": 168,
     "metadata": {},
     "output_type": "execute_result"
    },
    {
     "data": {
      "image/png": "[encoded data removed]",
      "text/plain": [
       "<Figure size 432x288 with 1 Axes>"
      ]
     },
     "metadata": {
      "needs_background": "light"
     },
     "output_type": "display_data"
    }
   ],
   "source": [
    "C = np.logspace(-3, 3, num=10)\n",
    "acc = train_validate(X, Y, C)\n",
    "plt.plot(acc)"
   ]
  },
  {
   "cell_type": "code",
   "execution_count": 169,
   "metadata": {},
   "outputs": [
    {
     "data": {
      "text/plain": [
       "[0.7464624504960419,\n",
       " 0.7512421724067017,\n",
       " 0.7520372581235618,\n",
       " 0.7520562876308282,\n",
       " 0.7520390868348805,\n",
       " 0.7520357508629807,\n",
       " 0.7520344381939376,\n",
       " 0.7520341687724341,\n",
       " 0.7520332110235058,\n",
       " 0.7520329674528303]"
      ]
     },
     "execution_count": 169,
     "metadata": {},
     "output_type": "execute_result"
    }
   ],
   "source": [
    "acc"
   ]
  },
  {
   "cell_type": "code",
   "execution_count": 170,
   "metadata": {},
   "outputs": [
    {
     "data": {
      "text/plain": [
       "(0.1, 0.7520562876308282)"
      ]
     },
     "execution_count": 170,
     "metadata": {},
     "output_type": "execute_result"
    }
   ],
   "source": [
    "C_best = C[np.argmax(acc)]\n",
    "C_best, acc[np.argmax(acc)]"
   ]
  },
  {
   "cell_type": "markdown",
   "metadata": {},
   "source": [
    "# Отчёт"
   ]
  },
  {
   "cell_type": "markdown",
   "metadata": {},
   "source": [
    "### Какое качество получилось у логистической регрессии над всеми исходными признаками? Как оно соотносится с качеством градиентного бустинга? Чем вы можете объяснить эту разницу? Быстрее ли работает логистическая регрессия по сравнению с градиентным бустингом?\n",
    "С = 0.0046, AUC-ROC = 0.717\n",
    "Логистическая регрессия независимо от параметра С обучается ~ 1 c, a время обучения град. бустинга сильно зависит от кол-ва деревье в композиции, и уже при кол-ве деревье=10 равно 14 с, т.е. в 14 раз дольше. Причем кол-во деревье в композии сильно влиет на сложность модели, а как мы видели выше, при увелечинии кол-ва деревье, качество на валидации растет. Возможно, град. бустинг недообучился\n",
    "\n",
    "#### Как влияет на качество логистической регрессии удаление категориальных признаков (укажите новое значение метрики качества)? Чем вы можете объяснить это изменение?\n",
    "\n",
    "Ни качество, ни лучшее С не изменилось. Возможно, лог. рег. зануляет веса при этих признаках\n",
    "\n",
    "### Сколько различных идентификаторов героев существует в данной игре?\n",
    "\n",
    "108\n",
    "\n",
    "### Какое получилось качество при добавлении \"мешка слов\" по героям? Улучшилось ли оно по сравнению с предыдущим вариантом? Чем вы можете это объяснить?\n",
    "\n",
    "0.752 AUC-ROC. Качество улучшилось на 0.036 по сравнению с лог. рег. без кат. признаков. Возможно, это связано с тем, что новое признаковое описание с one-hot категориальных признаков по героям более линейно разделимо\n",
    "\n",
    "### Какое минимальное и максимальное значение прогноза на тестовой выборке получилось у лучшего из алгоритмов?\n",
    "0.00846658, 0.9963984 у лог. рег с C=0.1\n"
   ]
  },
  {
   "cell_type": "code",
   "execution_count": null,
   "metadata": {},
   "outputs": [],
   "source": []
  },
  {
   "cell_type": "code",
   "execution_count": null,
   "metadata": {},
   "outputs": [],
   "source": []
  },
  {
   "cell_type": "markdown",
   "metadata": {},
   "source": [
    "## Проверка финальной модели\n",
    "\n",
    "После того как вы провели все эксперименты и выбрали лучшую модель, можете проверить ее качество на тестовых матчах. Выборка тестовых матчей собрана в файле `matches_test.jsonlines.bz2`. В отличие от основного набора матчей, в тестовых матчах есть только та информация, которая известна на момент первых 5 игровых минут, результат матча — неизвестен. Таблица признаков для тестовых матчей — `features_test.csv`.\n",
    "\n",
    "Для всех матчей из тестового набора предскажите вероятность победы Radiant, запишите предсказания в CSV файл с колонками `match_id` (идентификатор матча) и `radiant_win` — предсказанная вероятность. Файл с предсказаниями должен выглядеть примерно следующим образом:\n",
    "\n",
    "```\n",
    "match_id,radiant_win\n",
    "1,0.51997370502\n",
    "4,0.51997370502\n",
    "15,0.51997370502\n",
    "...\n",
    "```\n",
    "\n",
    "Отправьте решение на Kaggle в соревнование: Dota 2: Win Probability Prediction.\n",
    "\n",
    "Ссылка на соревнование: [Dota 2: Win Probability Prediction](https://kaggle.com/join/coursera_ml_dota2_contest)"
   ]
  },
  {
   "cell_type": "code",
   "execution_count": 182,
   "metadata": {},
   "outputs": [
    {
     "name": "stdout",
     "output_type": "stream",
     "text": [
      "CPU times: user 1min 1s, sys: 138 ms, total: 1min 1s\n",
      "Wall time: 1min 1s\n"
     ]
    }
   ],
   "source": [
    "%%time\n",
    "features = pd.read_csv('./features.csv', index_col='match_id')\n",
    "\n",
    "X = features.drop(['duration', 'radiant_win', \\\n",
    "                   'tower_status_radiant', \\\n",
    "                   'tower_status_dire', \\\n",
    "                   'barracks_status_radiant', \\\n",
    "                   'barracks_status_dire'], axis=1)\n",
    "\n",
    "ar = np.array([])\n",
    "\n",
    "for p in range(1, 6):\n",
    "    ar = np.hstack([ar, X[f'r{p}_hero'].values, X[f'd{p}_hero'].values])\n",
    "N = len(np.unique(ar)) # кол-во уник. героев\n",
    "\n",
    "le = LabelEncoder()\n",
    "le.fit(np.unique(ar))\n",
    "\n",
    "# N — количество различных героев в выборке\n",
    "X_pick = np.zeros((X.shape[0], N))\n",
    "\n",
    "for i, match_id in enumerate(X.index):\n",
    "    for p in range(5):\n",
    "        col_idx = le.transform([X.loc[match_id, 'r%d_hero' % (p+1)]])\n",
    "        X_pick[i, col_idx[0]] = 1\n",
    "        \n",
    "        col_idx = le.transform([X.loc[match_id, 'd%d_hero' % (p+1)]])\n",
    "        X_pick[i, col_idx[0]] = -1\n",
    "        \n",
    "to_delete = ['lobby_type', 'r1_hero', 'r2_hero', 'r3_hero', 'r4_hero', 'r5_hero', \\\n",
    "             'd1_hero', 'd2_hero', 'd3_hero', 'd4_hero', 'd5_hero']\n",
    "X = X.drop(to_delete, axis=1)\n",
    "\n",
    "\n",
    "# Заполняем медианой пропуски\n",
    "t = X.count()\n",
    "columns_wtih_na = list(t[t < X.shape[0]].index)\n",
    "for col in columns_wtih_na:\n",
    "    X[col] = X[col].fillna(X[col].median())\n",
    "    \n",
    "X = X.values\n",
    "scaler = StandardScaler()\n",
    "X = scaler.fit_transform(X)\n",
    "\n",
    "\n",
    "Y = features['radiant_win'].values\n",
    "\n",
    "# добавляю кат. признаки о героях\n",
    "X = np.hstack([X, X_pick])"
   ]
  },
  {
   "cell_type": "code",
   "execution_count": 183,
   "metadata": {},
   "outputs": [
    {
     "name": "stdout",
     "output_type": "stream",
     "text": [
      "CPU times: user 34.9 s, sys: 16.9 s, total: 51.8 s\n",
      "Wall time: 5.19 s\n"
     ]
    },
    {
     "data": {
      "text/plain": [
       "LogisticRegression(C=0.1, class_weight=None, dual=False, fit_intercept=True,\n",
       "                   intercept_scaling=1, l1_ratio=None, max_iter=1000,\n",
       "                   multi_class='auto', n_jobs=None, penalty='l2',\n",
       "                   random_state=241, solver='lbfgs', tol=0.0001, verbose=False,\n",
       "                   warm_start=False)"
      ]
     },
     "execution_count": 183,
     "metadata": {},
     "output_type": "execute_result"
    }
   ],
   "source": [
    "%%time\n",
    "clf = LogisticRegression(penalty='l2', random_state=SEED, C=0.1, verbose=False, max_iter=1000)\n",
    "clf.fit(X, Y)"
   ]
  },
  {
   "cell_type": "code",
   "execution_count": 191,
   "metadata": {},
   "outputs": [
    {
     "name": "stdout",
     "output_type": "stream",
     "text": [
      "CPU times: user 10.8 s, sys: 6.45 ms, total: 10.8 s\n",
      "Wall time: 10.8 s\n"
     ]
    }
   ],
   "source": [
    "%%time\n",
    "X_test = pd.read_csv('./features_test.csv', index_col='match_id')\n",
    "\n",
    "\n",
    "# N — количество различных героев в выборке\n",
    "X_pick = np.zeros((X_test.shape[0], N))\n",
    "\n",
    "for i, match_id in enumerate(X_test.index):\n",
    "    for p in range(5):\n",
    "        col_idx = le.transform([X_test.loc[match_id, 'r%d_hero' % (p+1)]])\n",
    "        X_pick[i, col_idx[0]] = 1\n",
    "        \n",
    "        col_idx = le.transform([X_test.loc[match_id, 'd%d_hero' % (p+1)]])\n",
    "        X_pick[i, col_idx[0]] = -1\n",
    "        \n",
    "to_delete = ['lobby_type', 'r1_hero', 'r2_hero', 'r3_hero', 'r4_hero', 'r5_hero', \\\n",
    "             'd1_hero', 'd2_hero', 'd3_hero', 'd4_hero', 'd5_hero']\n",
    "X_test = X_test.drop(to_delete, axis=1)\n",
    "\n",
    "\n",
    "# Заполняем медианой пропуски\n",
    "t = X_test.count()\n",
    "columns_wtih_na = list(t[t < X_test.shape[0]].index)\n",
    "for col in columns_wtih_na:\n",
    "    X_test[col] = X_test[col].fillna(X_test[col].median())\n",
    "    \n",
    "X_test = X_test.values\n",
    "X_test = scaler.transform(X_test)\n",
    "\n",
    "\n",
    "# добавляю кат. признаки о героях\n",
    "X_test = np.hstack([X_test, X_pick])"
   ]
  },
  {
   "cell_type": "code",
   "execution_count": 192,
   "metadata": {},
   "outputs": [
    {
     "data": {
      "text/plain": [
       "(17177, 199)"
      ]
     },
     "execution_count": 192,
     "metadata": {},
     "output_type": "execute_result"
    }
   ],
   "source": [
    "X_test.shape"
   ]
  },
  {
   "cell_type": "code",
   "execution_count": 193,
   "metadata": {},
   "outputs": [
    {
     "data": {
      "text/plain": [
       "(17177, 102)"
      ]
     },
     "execution_count": 193,
     "metadata": {},
     "output_type": "execute_result"
    }
   ],
   "source": [
    "features_test.shape"
   ]
  },
  {
   "cell_type": "code",
   "execution_count": 195,
   "metadata": {},
   "outputs": [
    {
     "data": {
      "text/plain": [
       "(17177, 1)"
      ]
     },
     "execution_count": 195,
     "metadata": {},
     "output_type": "execute_result"
    }
   ],
   "source": [
    "pred.shape"
   ]
  },
  {
   "cell_type": "code",
   "execution_count": 197,
   "metadata": {},
   "outputs": [],
   "source": [
    "pred = clf.predict_proba(X_test)[:, 1]\n",
    "pred = pd.DataFrame(pred, columns=['radiant_win'])\n",
    "pd.concat([features_test.reset_index()[['match_id']], pred], axis=1).to_csv('submit.csv', index=False)"
   ]
  },
  {
   "cell_type": "code",
   "execution_count": 201,
   "metadata": {},
   "outputs": [
    {
     "data": {
      "text/plain": [
       "(array([0.00846658]), array([0.9963984]))"
      ]
     },
     "execution_count": 201,
     "metadata": {},
     "output_type": "execute_result"
    }
   ],
   "source": [
    "min(pred.values), max(pred.values)"
   ]
  },
  {
   "cell_type": "markdown",
   "metadata": {},
   "source": [
    "### Что еще попробовать?\n",
    "\n",
    "Разумеется, можно попробовать еще очень много разных идей, которые помогут вам получить еще более высокий результат на kaggle. Вот лишь несколько возможных вариантов:\n",
    "1. Про каждого из игроков есть достаточно много показателей: максимальный опыт, число смертей и т.д. (см. список выше). Можно попробовать просуммировать или усредних их, получив агрегированные показатели для всей команды.\n",
    "2. В сырых данных (файл matches.jsonlines.bz2) содержится очень много информации, которую мы пока не использовали. Вы можете, например, составить \"мешки слов\" для покупок различных предметов (то есть кодировать информацию о том, сколько раз каждая команда покупала тот или иной предмет). Обратите внимание, что при этом вы можете получить слишком большое количество признаков, для которых может иметь смысл сделать понижение размерности с помощью метода главных компонент.\n",
    "3. Можно сформировать признаки про изменения способностей героев в течение матча (ability_upgrades).\n",
    "4. В этом задании используются только градиентный бустинг и логистическая регрессия — но ведь мы изучали и другие модели! Можно попробовать метод k ближайших соседей, SVM, случайный лес и так далее."
   ]
  },
  {
   "cell_type": "markdown",
   "metadata": {},
   "source": [
    "## Про задачу и финальное задание\n",
    "\n",
    "#### Почему именно такая задача?\n",
    "\n",
    "- Публикация реальных данных из индустриальных задач — очень смелый шаг для компании. Мало кто (даже Яндекс) может на такое пойти. Гораздо проще (а порой и интереснее) воспользоваться данными из открытых источников.\n",
    "- Публичные датасеты из интернета для решения реальных бизнес-задач мало пригодны, собственно поэтому они и лежат в открытом доступе.\n",
    "- Мы предпочли сделать игрушечную задачу на реальных данных, вместо реальной задачи на игрушечных данных.\n",
    "- Задача прогнозирования победы — игрушечная, но вот лишь небольшой перечень реальных задач, на которые она похожа:\n",
    "    - предсказания вероятности покупки услуги клиентом банка\n",
    "    - предсказание вероятности оттока клиента к другому поставщику услуг\n",
    "    - ... (подумайте над другими примерами)\n",
    "\n",
    "#### Задание слишком простое. Что еще можно сделать?\n",
    "\n",
    "Ответить на вопрос: какое минимальное число минут матча необходимо знать, для того чтобы в 80% матчей верно угадывать победившую сторону? А с точностью 90%? Дайте свой ответ на этот вопрос и докажите что такой точности действительно можно достичь, построив модель и качественно провалидировав ее. Насколько матчи в игре Dota 2 предсказуемы?\n",
    "\n",
    "Напишите об этом статью, расскажите всем, и приходите к нам на собеседование.\n",
    "\n",
    "#### Где взяли данные?\n",
    "\n",
    "Набор данных был сделан на основе выгрузки [YASP 3.5 Million Data Dump](http://academictorrents.com/details/5c5deeb6cfe1c944044367d2e7465fd8bd2f4acf) реплеев матчей Dota 2 с сайта [yasp.co](http://yasp.co/). За выгрузку огромное спасибо Albert Cui and Howard Chung and Nicholas Hanson-Holtry. Лицензия на выгрузку: CC BY-SA 4.0.\n",
    "\n",
    "#### Как сформировали выборку?\n",
    "\n",
    "Оригинальная выгрузка матчей была очищена, в предложенном наборе присутствуют матчи:\n",
    "  - сыгранные с 2015-05-01 до 2015-12-17\n",
    "  - длительностью не менее 15 минут\n",
    "  - убраны матчи с неполной информацией (например: отсутвует информация про игроков)\n",
    "\n",
    "Из всего датасета 15% случайных записей были выделены в тестовое множество.\n",
    "\n",
    "Для того чтобы размотивировать участников соревнования на Kaggle занимать высокие места читерскими методами (например, скачав оригинальный набор данных и подсмотрев ответы на тестовом множестве матчей), мы произвели минимальную обфускацию данных, т.е. немного запутали датасет:\n",
    "   - поменяли идентификаторы матчей\n",
    "   - время начала каждого матча сдвинули на значение случайной величины, нормально распределенной со стандартным отклонением в 1 сутки"
   ]
  }
 ],
 "metadata": {
  "kernelspec": {
   "display_name": "Python 3",
   "language": "python",
   "name": "python3"
  },
  "language_info": {
   "codemirror_mode": {
    "name": "ipython",
    "version": 3
   },
   "file_extension": ".py",
   "mimetype": "text/x-python",
   "name": "python",
   "nbconvert_exporter": "python",
   "pygments_lexer": "ipython3",
   "version": "3.6.9"
  }
 },
 "nbformat": 4,
 "nbformat_minor": 1
}
